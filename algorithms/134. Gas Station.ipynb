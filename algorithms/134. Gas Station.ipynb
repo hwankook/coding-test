{
 "cells": [
  {
   "cell_type": "code",
   "execution_count": 468,
   "metadata": {},
   "outputs": [],
   "source": [
    "from typing import List"
   ]
  },
  {
   "cell_type": "code",
   "execution_count": 508,
   "metadata": {},
   "outputs": [],
   "source": [
    "class Solution:\n",
    "    def canCompleteCircuit(self, gas: List[int], cost: List[int]) -> int:\n",
    "        if sum(gas) < sum(cost):\n",
    "            return -1 \n",
    "        \n",
    "        start = 0\n",
    "        tank = 0\n",
    "        for i in range(len(gas)):\n",
    "            tank = tank - cost[i] + gas[i]\n",
    "            if tank < 0:\n",
    "                tank = 0\n",
    "                start = i + 1\n",
    "        return start"
   ]
  },
  {
   "cell_type": "code",
   "execution_count": 510,
   "metadata": {},
   "outputs": [],
   "source": [
    "gas, cost = [1,2,3,4,5], [3,4,5,1,2]"
   ]
  },
  {
   "cell_type": "code",
   "execution_count": 511,
   "metadata": {},
   "outputs": [
    {
     "data": {
      "text/plain": [
       "3"
      ]
     },
     "execution_count": 511,
     "metadata": {},
     "output_type": "execute_result"
    }
   ],
   "source": [
    "Solution().canCompleteCircuit(gas, cost)"
   ]
  },
  {
   "cell_type": "markdown",
   "metadata": {},
   "source": [
    "------------------------------------------------------------------------------------------------------------------"
   ]
  },
  {
   "cell_type": "code",
   "execution_count": 472,
   "metadata": {},
   "outputs": [],
   "source": [
    "gas, cost = [5,8,2,8], [6,5,6,6]"
   ]
  },
  {
   "cell_type": "code",
   "execution_count": 473,
   "metadata": {},
   "outputs": [],
   "source": [
    "gas, cost = [2,3,4], [3,4,3]"
   ]
  },
  {
   "cell_type": "code",
   "execution_count": 474,
   "metadata": {},
   "outputs": [],
   "source": [
    "gas, cost = [3,1,1], [1,2,2]"
   ]
  },
  {
   "cell_type": "code",
   "execution_count": 475,
   "metadata": {},
   "outputs": [],
   "source": [
    "gas, cost = [2,3,4], [3,4,3]"
   ]
  },
  {
   "cell_type": "code",
   "execution_count": 538,
   "metadata": {},
   "outputs": [],
   "source": [
    "gas, cost = [5,1,2,3,4], [4,4,1,5,1]"
   ]
  },
  {
   "cell_type": "markdown",
   "metadata": {},
   "source": [
    "Time Limit Exceeded"
   ]
  },
  {
   "cell_type": "code",
   "execution_count": 539,
   "metadata": {},
   "outputs": [],
   "source": [
    "class Solution:\n",
    "    def canCompleteCircuit(self, gas: List[int], cost: List[int]) -> int:\n",
    "        for start in range(len(gas)):\n",
    "            end = len(gas) - 1\n",
    "            index = start\n",
    "            tank = gas[index]\n",
    "            while index < end:\n",
    "                if 0 <= tank - cost[index]:\n",
    "                    tank = tank - cost[index] + gas[index + 1]\n",
    "                    index += 1\n",
    "                    if start == index:\n",
    "                        return start\n",
    "                else:\n",
    "                    break\n",
    "            if 0 <= tank - cost[index]:\n",
    "                tank = tank - cost[index] + gas[0]\n",
    "                index = 0\n",
    "                if start == index:\n",
    "                    return start\n",
    "                while index < start:\n",
    "                    if 0 <= tank - cost[index]:\n",
    "                        tank = tank - cost[index] + gas[index + 1]\n",
    "                        index += 1\n",
    "                        if start == index:\n",
    "                            return start\n",
    "                    else:\n",
    "                        break\n",
    "        return -1"
   ]
  },
  {
   "cell_type": "code",
   "execution_count": 540,
   "metadata": {},
   "outputs": [
    {
     "data": {
      "text/plain": [
       "4"
      ]
     },
     "execution_count": 540,
     "metadata": {},
     "output_type": "execute_result"
    }
   ],
   "source": [
    "Solution().canCompleteCircuit(gas, cost)"
   ]
  },
  {
   "cell_type": "code",
   "execution_count": null,
   "metadata": {},
   "outputs": [],
   "source": []
  }
 ],
 "metadata": {
  "kernelspec": {
   "display_name": "Python 3",
   "language": "python",
   "name": "python3"
  },
  "language_info": {
   "codemirror_mode": {
    "name": "ipython",
    "version": 3
   },
   "file_extension": ".py",
   "mimetype": "text/x-python",
   "name": "python",
   "nbconvert_exporter": "python",
   "pygments_lexer": "ipython3",
   "version": "3.8.5"
  }
 },
 "nbformat": 4,
 "nbformat_minor": 4
}
