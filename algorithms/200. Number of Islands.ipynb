{
 "cells": [
  {
   "cell_type": "code",
   "execution_count": 1,
   "metadata": {},
   "outputs": [],
   "source": [
    "from typing import List"
   ]
  },
  {
   "cell_type": "code",
   "execution_count": 141,
   "metadata": {},
   "outputs": [],
   "source": [
    "class Solution:\n",
    "    def __init__(self):\n",
    "        self.count = 0\n",
    "\n",
    "    def can_move(self, grid, row, col):\n",
    "        if (0 <= row < len(grid)) and (0 <= col < len(grid[0])):\n",
    "            if grid[row][col] == '1':\n",
    "                grid[row][col] = '-'\n",
    "                return True\n",
    "\n",
    "        return False\n",
    "\n",
    "    def dfs_visit(self, grid, row, col):\n",
    "        for y, x in [[-1, 0], [1, 0], [0, -1], [0, 1]]:\n",
    "            next_row, next_col = row + y, col + x\n",
    "            if self.can_move(grid, next_row, next_col):\n",
    "                self.dfs_visit(grid, next_row, next_col)\n",
    "\n",
    "    def numIslands(self, grid: List[List[str]]) -> int:\n",
    "        for row, col in [(row, col) for row in range(len(grid))\n",
    "                                    for col in range(len(grid[0]))]:\n",
    "            if grid[row][col] == '1':\n",
    "                grid[row][col] = '-'\n",
    "                self.count += 1\n",
    "                self.dfs_visit(grid, row, col)\n",
    "        return self.count"
   ]
  },
  {
   "cell_type": "code",
   "execution_count": 142,
   "metadata": {},
   "outputs": [],
   "source": [
    "grid = [\n",
    "  [\"1\",\"1\",\"0\",\"0\",\"0\"],\n",
    "  [\"1\",\"1\",\"0\",\"0\",\"0\"],\n",
    "  [\"0\",\"0\",\"1\",\"0\",\"0\"],\n",
    "  [\"0\",\"0\",\"0\",\"1\",\"1\"]\n",
    "]"
   ]
  },
  {
   "cell_type": "code",
   "execution_count": 143,
   "metadata": {},
   "outputs": [
    {
     "data": {
      "text/plain": [
       "3"
      ]
     },
     "execution_count": 143,
     "metadata": {},
     "output_type": "execute_result"
    }
   ],
   "source": [
    "s = Solution()\n",
    "s.numIslands(grid)"
   ]
  },
  {
   "cell_type": "code",
   "execution_count": 144,
   "metadata": {},
   "outputs": [
    {
     "data": {
      "text/plain": [
       "[['-', '-', '0', '0', '0'],\n",
       " ['-', '-', '0', '0', '0'],\n",
       " ['0', '0', '-', '0', '0'],\n",
       " ['0', '0', '0', '-', '-']]"
      ]
     },
     "execution_count": 144,
     "metadata": {},
     "output_type": "execute_result"
    }
   ],
   "source": [
    "grid"
   ]
  },
  {
   "cell_type": "code",
   "execution_count": null,
   "metadata": {},
   "outputs": [],
   "source": []
  }
 ],
 "metadata": {
  "kernelspec": {
   "display_name": "Python 3",
   "language": "python",
   "name": "python3"
  },
  "language_info": {
   "codemirror_mode": {
    "name": "ipython",
    "version": 3
   },
   "file_extension": ".py",
   "mimetype": "text/x-python",
   "name": "python",
   "nbconvert_exporter": "python",
   "pygments_lexer": "ipython3",
   "version": "3.8.5"
  }
 },
 "nbformat": 4,
 "nbformat_minor": 4
}
