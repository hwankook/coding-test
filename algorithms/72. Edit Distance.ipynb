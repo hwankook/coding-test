{
 "cells": [
  {
   "cell_type": "code",
   "execution_count": 27,
   "id": "c9855891-211e-4bb8-8917-aec328027d7e",
   "metadata": {},
   "outputs": [],
   "source": [
    "class Solution:\n",
    "    def minDistance(self, word1: str, word2: str) -> int:\n",
    "        memo = {}\n",
    "        def dp(i, j):\n",
    "            if i == 0 or j == 0:\n",
    "                return max(i, j)\n",
    "            \n",
    "            key = (i, j)\n",
    "            if key in memo:\n",
    "                return memo[key]\n",
    "            \n",
    "            if word1[i - 1] == word2[j - 1]:\n",
    "                memo[key] = dp(i - 1, j - 1)\n",
    "            else:\n",
    "                a = dp(i - 1, j) + 1\n",
    "                b = dp(i, j - 1) + 1\n",
    "                c = dp(i - 1, j - 1) + 1\n",
    "                memo[key] = min(a, b, c)\n",
    "            return memo[key]\n",
    "        return dp(len(word1), len(word2))"
   ]
  },
  {
   "cell_type": "code",
   "execution_count": 28,
   "id": "cb220035-0f19-4b82-a083-4e614fb2a5ef",
   "metadata": {},
   "outputs": [],
   "source": [
    "word1 = \"horse\"\n",
    "word2 = \"ros\""
   ]
  },
  {
   "cell_type": "code",
   "execution_count": 29,
   "id": "ce145289-1543-468f-9d5a-b7389ac6ae37",
   "metadata": {},
   "outputs": [],
   "source": [
    "word1 = \"intention\"\n",
    "word2 = \"execution\""
   ]
  },
  {
   "cell_type": "code",
   "execution_count": 30,
   "id": "f9a055c3-db14-496b-8b7d-429cd455079a",
   "metadata": {},
   "outputs": [
    {
     "data": {
      "text/plain": [
       "5"
      ]
     },
     "execution_count": 30,
     "metadata": {},
     "output_type": "execute_result"
    }
   ],
   "source": [
    "Solution().minDistance(word1, word2)"
   ]
  },
  {
   "cell_type": "code",
   "execution_count": null,
   "id": "8e29c8c7-3056-4d49-bfbf-5e5834fae6e4",
   "metadata": {},
   "outputs": [],
   "source": []
  }
 ],
 "metadata": {
  "kernelspec": {
   "display_name": "Python 3 (ipykernel)",
   "language": "python",
   "name": "python3"
  },
  "language_info": {
   "codemirror_mode": {
    "name": "ipython",
    "version": 3
   },
   "file_extension": ".py",
   "mimetype": "text/x-python",
   "name": "python",
   "nbconvert_exporter": "python",
   "pygments_lexer": "ipython3",
   "version": "3.9.7"
  }
 },
 "nbformat": 4,
 "nbformat_minor": 5
}
