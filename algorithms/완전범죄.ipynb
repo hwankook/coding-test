{
  "nbformat": 4,
  "nbformat_minor": 0,
  "metadata": {
    "colab": {
      "provenance": [],
      "authorship_tag": "ABX9TyPDejbWZGu+j/mgPGWc0KJs",
      "include_colab_link": true
    },
    "kernelspec": {
      "name": "python3",
      "display_name": "Python 3"
    },
    "language_info": {
      "name": "python"
    }
  },
  "cells": [
    {
      "cell_type": "markdown",
      "metadata": {
        "id": "view-in-github",
        "colab_type": "text"
      },
      "source": [
        "<a href=\"https://colab.research.google.com/github/hwankook/coding-test/blob/main/algorithms/%EC%99%84%EC%A0%84%EB%B2%94%EC%A3%84.ipynb\" target=\"_parent\"><img src=\"https://colab.research.google.com/assets/colab-badge.svg\" alt=\"Open In Colab\"/></a>"
      ]
    },
    {
      "cell_type": "code",
      "execution_count": 3,
      "metadata": {
        "colab": {
          "base_uri": "https://localhost:8080/"
        },
        "id": "kT4mkINGQ1jQ",
        "outputId": "53d1c810-449a-4704-82ea-f3165e31ffd3"
      },
      "outputs": [
        {
          "output_type": "stream",
          "name": "stdout",
          "text": [
            "2\n",
            "0\n",
            "6\n",
            "-1\n"
          ]
        }
      ],
      "source": [
        "def solution(info, n, m):\n",
        "    INF = float('inf')\n",
        "    dp = [[INF] * m for _ in range(n)]\n",
        "    dp[0][0] = 0  # 초기 상태\n",
        "\n",
        "    for a_trace, b_trace in info:\n",
        "        new_dp = [[INF] * m for _ in range(n)]  # 새로운 DP 테이블\n",
        "\n",
        "        for a in range(n):\n",
        "            for b in range(m):\n",
        "                if dp[a][b] == INF:\n",
        "                    continue\n",
        "\n",
        "                # A 도둑이 가져가는 경우\n",
        "                new_a, new_b = a + a_trace, b\n",
        "                if new_a < n:\n",
        "                    new_dp[new_a][new_b] = min(new_dp[new_a][new_b], dp[a][b] + a_trace)\n",
        "\n",
        "                # B 도둑이 가져가는 경우\n",
        "                new_a, new_b = a, b + b_trace\n",
        "                if new_b < m:\n",
        "                    new_dp[new_a][new_b] = min(new_dp[new_a][new_b], dp[a][b])\n",
        "\n",
        "        dp = new_dp  # 갱신\n",
        "\n",
        "    # 최소 A 흔적 찾기\n",
        "    answer = min(dp[a][b] for a in range(n) for b in range(m))\n",
        "\n",
        "    return answer if answer != INF else -1\n",
        "\n",
        "\n",
        "print(solution([[1, 2], [2, 3], [2, 1]], 4, 4))\n",
        "print(solution([[1, 2], [2, 3], [2, 1]], 1, 7))  # 0\n",
        "print(solution([[3, 3], [3, 3]], 7, 1))  # 6\n",
        "print(solution([[3, 3], [3, 3]], 6, 1))  # -1"
      ]
    },
    {
      "cell_type": "code",
      "source": [],
      "metadata": {
        "id": "BncuQc_7Q9fU"
      },
      "execution_count": null,
      "outputs": []
    }
  ]
}