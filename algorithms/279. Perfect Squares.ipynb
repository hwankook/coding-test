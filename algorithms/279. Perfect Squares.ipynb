{
 "cells": [
  {
   "cell_type": "code",
   "execution_count": 55,
   "metadata": {},
   "outputs": [],
   "source": [
    "class Solution:\n",
    "    def numSquares(self, n: int) -> int:\n",
    "        m = [-1] * (n + 1)\n",
    "        def dp(n):\n",
    "            if n <= 0:\n",
    "                return 0\n",
    "            if m[n] != -1:\n",
    "                return m[n]\n",
    "            answer = n\n",
    "            k = 1\n",
    "            while k * k <= n:\n",
    "                answer = min(answer, dp(n - (k * k)))\n",
    "                k += 1\n",
    "            m[n] = answer + 1\n",
    "            return m[n]\n",
    "        return dp(n)"
   ]
  },
  {
   "cell_type": "code",
   "execution_count": 56,
   "metadata": {},
   "outputs": [],
   "source": [
    "n = 12"
   ]
  },
  {
   "cell_type": "code",
   "execution_count": 57,
   "metadata": {},
   "outputs": [],
   "source": [
    "n = 19"
   ]
  },
  {
   "cell_type": "code",
   "execution_count": 58,
   "metadata": {},
   "outputs": [],
   "source": [
    "n = 43"
   ]
  },
  {
   "cell_type": "code",
   "execution_count": 59,
   "metadata": {},
   "outputs": [
    {
     "data": {
      "text/plain": [
       "3"
      ]
     },
     "execution_count": 59,
     "metadata": {},
     "output_type": "execute_result"
    }
   ],
   "source": [
    "Solution().numSquares(n)"
   ]
  },
  {
   "cell_type": "markdown",
   "metadata": {},
   "source": [
    "------------------------------------------------------------------------------------------------------------------\n",
    "Wrong Answer\n",
    "\n",
    "564 / 588 test cases passed."
   ]
  },
  {
   "cell_type": "markdown",
   "metadata": {},
   "source": [
    "perfect square<br>\n",
    "1 ** 2<br>\n",
    "2 ** 2<br>\n",
    "3 ** 2<br>\n",
    "...<br>\n",
    "k ** 2<br>\n",
    "\n",
    "1 = 1<br>\n",
    "2 = 1 + 1<br>\n",
    "3 = 1 + 1 + 1<br>\n",
    "4 = 1 + 1 + 1 + 1, 4<br>\n",
    "5 = 1 + 1 + 1 + 1 + 1, 1 + 4<br>\n",
    "\n",
    "k = 1<br>\n",
    "5 = k + k + k + k + k, k + (k + 1)<br>\n",
    "\n",
    "k = 1<br>\n",
    "13 = k + ... + k, (k + 1) + (k + 2)<br>\n",
    "\n",
    "1 < sqrt(n) < k<br>"
   ]
  },
  {
   "cell_type": "code",
   "execution_count": 66,
   "metadata": {},
   "outputs": [],
   "source": [
    "import math\n",
    "class Solution:\n",
    "    def numSquares(self, n: int) -> int:\n",
    "        def dp(n: int, k: int, q) -> int:\n",
    "            if n <= 0:\n",
    "                return q\n",
    "            p = k ** 2\n",
    "            if p <= n:\n",
    "                n -= p\n",
    "                q += 1\n",
    "                return dp(n, k, q)\n",
    "            else:\n",
    "                return dp(n, k - 1, q)\n",
    "        answer = float('inf')\n",
    "        k = int(math.sqrt(n))\n",
    "        for i in range(k, 0, -1):\n",
    "            answer = min(answer, dp(n, i, 0))\n",
    "        return answer"
   ]
  },
  {
   "cell_type": "code",
   "execution_count": 67,
   "metadata": {},
   "outputs": [
    {
     "data": {
      "text/plain": [
       "4"
      ]
     },
     "execution_count": 67,
     "metadata": {},
     "output_type": "execute_result"
    }
   ],
   "source": [
    "Solution().numSquares(n)"
   ]
  },
  {
   "cell_type": "code",
   "execution_count": null,
   "metadata": {},
   "outputs": [],
   "source": []
  }
 ],
 "metadata": {
  "kernelspec": {
   "display_name": "Python 3",
   "language": "python",
   "name": "python3"
  },
  "language_info": {
   "codemirror_mode": {
    "name": "ipython",
    "version": 3
   },
   "file_extension": ".py",
   "mimetype": "text/x-python",
   "name": "python",
   "nbconvert_exporter": "python",
   "pygments_lexer": "ipython3",
   "version": "3.8.5"
  }
 },
 "nbformat": 4,
 "nbformat_minor": 4
}
