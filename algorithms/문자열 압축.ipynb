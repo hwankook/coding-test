{
 "cells": [
  {
   "cell_type": "code",
   "execution_count": 298,
   "id": "9924f3a2-0c55-4b93-a9e9-ce5d3d913002",
   "metadata": {},
   "outputs": [],
   "source": [
    "s = \"aabbaccc\""
   ]
  },
  {
   "cell_type": "code",
   "execution_count": 322,
   "id": "371ea4b0-0416-47db-9b48-770a633950df",
   "metadata": {},
   "outputs": [],
   "source": [
    "s = \"ababcdcdababcdcd\""
   ]
  },
  {
   "cell_type": "code",
   "execution_count": 325,
   "id": "3b36c461-f103-448a-b224-0673e58752af",
   "metadata": {},
   "outputs": [],
   "source": [
    "s = \"abcabcdede\""
   ]
  },
  {
   "cell_type": "code",
   "execution_count": 328,
   "id": "d13b421d-cc9f-4696-932c-a6848ea84f57",
   "metadata": {},
   "outputs": [],
   "source": [
    "s = \"abcabcabcabcdededededede\""
   ]
  },
  {
   "cell_type": "code",
   "execution_count": 331,
   "id": "86ba951b-8919-4dc2-8c69-09ec1bc34f60",
   "metadata": {},
   "outputs": [],
   "source": [
    "s = \"xababcdcdababcdcd\""
   ]
  },
  {
   "cell_type": "code",
   "execution_count": 335,
   "id": "0504f677-1da5-438e-93d7-67ba6670964a",
   "metadata": {},
   "outputs": [],
   "source": [
    "def solution(s):\n",
    "    answer = len(s)\n",
    "    previous = ('', 0)\n",
    "    for i in range(1, len(s) // 2 + 1):\n",
    "        result = []\n",
    "        for j in range(0, len(s), i):\n",
    "            c = s[j:j+i]\n",
    "            key, val = previous\n",
    "            if c == key:\n",
    "                result[-1] = str(val + 1) + c\n",
    "                previous = (c, val + 1)\n",
    "            else:\n",
    "                result.append(c)\n",
    "                previous = (c, 1)\n",
    "        if len(result):\n",
    "            answer = min(answer, len(''.join(result)))\n",
    "    return answer"
   ]
  },
  {
   "cell_type": "code",
   "execution_count": 336,
   "id": "6e91f070-4392-453d-9f59-7017da023b7a",
   "metadata": {},
   "outputs": [
    {
     "data": {
      "text/plain": [
       "17"
      ]
     },
     "execution_count": 336,
     "metadata": {},
     "output_type": "execute_result"
    }
   ],
   "source": [
    "solution(s)"
   ]
  },
  {
   "cell_type": "code",
   "execution_count": null,
   "id": "85726df6-425d-4094-b9e7-8a28cf7b0ac2",
   "metadata": {},
   "outputs": [],
   "source": []
  }
 ],
 "metadata": {
  "kernelspec": {
   "display_name": "Python 3 (ipykernel)",
   "language": "python",
   "name": "python3"
  },
  "language_info": {
   "codemirror_mode": {
    "name": "ipython",
    "version": 3
   },
   "file_extension": ".py",
   "mimetype": "text/x-python",
   "name": "python",
   "nbconvert_exporter": "python",
   "pygments_lexer": "ipython3",
   "version": "3.9.7"
  }
 },
 "nbformat": 4,
 "nbformat_minor": 5
}
