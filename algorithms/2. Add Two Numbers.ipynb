{
 "cells": [
  {
   "cell_type": "code",
   "execution_count": 2,
   "id": "17435f3e-b877-4f46-9826-b1c804ee96b7",
   "metadata": {},
   "outputs": [],
   "source": [
    "from typing import Optional, List"
   ]
  },
  {
   "cell_type": "code",
   "execution_count": 3,
   "id": "72424029-9edc-4ebe-9a95-38b542e6769b",
   "metadata": {},
   "outputs": [],
   "source": [
    "class ListNode:\n",
    "    def __init__(self, val=0, next=None):\n",
    "        self.val = val\n",
    "        self.next = next"
   ]
  },
  {
   "cell_type": "code",
   "execution_count": 18,
   "id": "9a6939f2-efbf-4ffd-acc8-4292284a2a24",
   "metadata": {},
   "outputs": [],
   "source": [
    "class Solution:\n",
    "    def addTwoNumbers(self, l1: ListNode, l2: ListNode) -> ListNode:\n",
    "        result = ListNode(0)\n",
    "        temp = result\n",
    "        \n",
    "        ptr1 = l1\n",
    "        ptr2 = l2\n",
    "        \n",
    "        carry = 0\n",
    "        \n",
    "        while ptr1 is not None or ptr2 is not None:\n",
    "            a = 0 if ptr1 is None else ptr1.val\n",
    "            b = 0 if ptr2 is None else ptr2.val\n",
    "            \n",
    "            val = a + b + carry\n",
    "            carry = val // 10\n",
    "            val = val % 10\n",
    "            \n",
    "            temp.next = ListNode(val)\n",
    "            temp = temp.next\n",
    "            \n",
    "            if ptr1 is not None:\n",
    "                ptr1 = ptr1.next\n",
    "            if ptr2 is not None:\n",
    "                ptr2 = ptr2.next\n",
    "            \n",
    "        if carry != 0:\n",
    "            temp.next = ListNode(carry)\n",
    "        \n",
    "        return result.next"
   ]
  },
  {
   "cell_type": "code",
   "execution_count": 9,
   "id": "a194b3b9-fac1-42b1-aade-6bfac6b39044",
   "metadata": {},
   "outputs": [],
   "source": [
    "l1 = ListNode(3)\n",
    "l1 = ListNode(4, l1)\n",
    "l1 = ListNode(2, l1)\n",
    "l2 = ListNode(4)\n",
    "l2 = ListNode(6, l2)\n",
    "l2 = ListNode(5, l2)"
   ]
  },
  {
   "cell_type": "code",
   "execution_count": 22,
   "id": "69316998-00ae-47e0-a0f2-dbe59c216f4e",
   "metadata": {},
   "outputs": [
    {
     "name": "stdout",
     "output_type": "stream",
     "text": [
      "7\n",
      "0\n",
      "8\n"
     ]
    }
   ],
   "source": [
    "result = Solution().addTwoNumbers(l1, l2)\n",
    "while result:\n",
    "    print(result.val)\n",
    "    result = result.next"
   ]
  },
  {
   "cell_type": "code",
   "execution_count": null,
   "id": "717fffea-3eaa-493b-937e-a12443253462",
   "metadata": {},
   "outputs": [],
   "source": []
  }
 ],
 "metadata": {
  "kernelspec": {
   "display_name": "Python 3 (ipykernel)",
   "language": "python",
   "name": "python3"
  },
  "language_info": {
   "codemirror_mode": {
    "name": "ipython",
    "version": 3
   },
   "file_extension": ".py",
   "mimetype": "text/x-python",
   "name": "python",
   "nbconvert_exporter": "python",
   "pygments_lexer": "ipython3",
   "version": "3.9.7"
  }
 },
 "nbformat": 4,
 "nbformat_minor": 5
}
