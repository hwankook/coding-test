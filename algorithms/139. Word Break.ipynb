{
 "cells": [
  {
   "cell_type": "code",
   "execution_count": 1,
   "metadata": {},
   "outputs": [],
   "source": [
    "from typing import List"
   ]
  },
  {
   "cell_type": "code",
   "execution_count": 1390,
   "metadata": {},
   "outputs": [],
   "source": [
    "from functools import lru_cache\n",
    "class Solution:\n",
    "    def wordBreak(self, s: str, wordDict: List[str]) -> bool:\n",
    "        @lru_cache(None)\n",
    "        def can_be_segmented(start):\n",
    "            if start == len(s):\n",
    "                return True\n",
    "            \n",
    "            for end in range(start, len(s) + 1):\n",
    "                if s[start:end] in wordDict:\n",
    "                    if can_be_segmented(end):\n",
    "                        return True\n",
    "            return False\n",
    "\n",
    "        return can_be_segmented(0)"
   ]
  },
  {
   "cell_type": "code",
   "execution_count": 1392,
   "metadata": {},
   "outputs": [],
   "source": [
    "class Solution:\n",
    "    def wordBreak(self, s: str, wordDict: List[str]) -> bool:\n",
    "        memo = [None] * (len(s) + 1)\n",
    "        \n",
    "        def can_be_segmented(start):\n",
    "            if memo[start] is None:\n",
    "                if start == len(s):\n",
    "                    memo[start] = True\n",
    "                    return memo[start]\n",
    "\n",
    "                for end in range(start, len(s) + 1):\n",
    "                    if s[start:end] in wordDict:\n",
    "                        if can_be_segmented(end):\n",
    "                            memo[start] = True\n",
    "                            return memo[start]\n",
    "            memo[start] = False\n",
    "            return memo[start]\n",
    "\n",
    "        return can_be_segmented(0)"
   ]
  },
  {
   "cell_type": "markdown",
   "metadata": {},
   "source": [
    "------------------------------------------------------------------------------------------------------------------"
   ]
  },
  {
   "cell_type": "markdown",
   "metadata": {},
   "source": [
    "Wrong Answer<br>\n",
    "44 / 45 test cases passed."
   ]
  },
  {
   "cell_type": "code",
   "execution_count": 1363,
   "metadata": {},
   "outputs": [],
   "source": [
    "class Solution:\n",
    "    def can_be_segmented(self, wordDict, mask, length):\n",
    "        for word in wordDict:\n",
    "            while ''.join(mask).find(word) != -1:\n",
    "                start = ''.join(mask).find(word)\n",
    "                mask[start:start + len(word)] = ['-'] * len(word)\n",
    "                if mask.count('-') == length:\n",
    "                    return True\n",
    "        return False\n",
    "    \n",
    "    def wordBreak(self, s: str, wordDict: List[str]) -> bool:\n",
    "        for word in wordDict:\n",
    "            mask = [_ for _ in s]\n",
    "            start = s.find(word)\n",
    "            if start != -1:\n",
    "                mask[start:start + len(word)] = ['-'] * len(word)\n",
    "                if mask.count('-') == len(s):\n",
    "                    return True\n",
    "\n",
    "                if self.can_be_segmented(wordDict, mask, len(s)):\n",
    "                    return True\n",
    "        return False"
   ]
  },
  {
   "cell_type": "code",
   "execution_count": 1372,
   "metadata": {},
   "outputs": [],
   "source": [
    "s = \"catsandog\"\n",
    "wordDict = [\"cats\",\"dog\",\"sand\",\"and\",\"cat\"]"
   ]
  },
  {
   "cell_type": "code",
   "execution_count": 1307,
   "metadata": {},
   "outputs": [],
   "source": [
    "s = \"applepenapple\"\n",
    "wordDict = [\"apple\",\"pen\"]"
   ]
  },
  {
   "cell_type": "code",
   "execution_count": 1361,
   "metadata": {},
   "outputs": [],
   "source": [
    "s = \"leetcode\"\n",
    "wordDict = [\"leet\",\"code\"]"
   ]
  },
  {
   "cell_type": "code",
   "execution_count": 883,
   "metadata": {},
   "outputs": [],
   "source": [
    "s = \"bb\"\n",
    "wordDict = [\"a\",\"b\",\"bbb\",\"bbbb\"]"
   ]
  },
  {
   "cell_type": "code",
   "execution_count": 1359,
   "metadata": {},
   "outputs": [],
   "source": [
    "s = \"a\"\n",
    "wordDict = [\"b\"]"
   ]
  },
  {
   "cell_type": "code",
   "execution_count": 887,
   "metadata": {},
   "outputs": [],
   "source": [
    "s = \"abcd\"\n",
    "wordDict = [\"a\",\"abc\",\"b\",\"cd\"]"
   ]
  },
  {
   "cell_type": "code",
   "execution_count": 889,
   "metadata": {},
   "outputs": [],
   "source": [
    "s = \"aaaaaaa\"\n",
    "wordDict = [\"aaaa\",\"aa\"]"
   ]
  },
  {
   "cell_type": "code",
   "execution_count": 1150,
   "metadata": {},
   "outputs": [],
   "source": [
    "s = \"catsandogcat\"\n",
    "wordDict = [\"cats\",\"dog\",\"sand\",\"and\",\"cat\",\"an\"]"
   ]
  },
  {
   "cell_type": "code",
   "execution_count": 1148,
   "metadata": {},
   "outputs": [],
   "source": [
    "s = \"catscatdog\"\n",
    "wordDict = [\"cat\",\"cats\",\"dog\"]"
   ]
  },
  {
   "cell_type": "code",
   "execution_count": 1146,
   "metadata": {},
   "outputs": [],
   "source": [
    "s = \"catskicatcats\"\n",
    "wordDict = [\"cats\",\"cat\",\"dog\",\"ski\"]"
   ]
  },
  {
   "cell_type": "code",
   "execution_count": 1378,
   "metadata": {},
   "outputs": [],
   "source": [
    "s = \"ccbb\"\n",
    "wordDict = [\"bc\",\"cb\"]"
   ]
  },
  {
   "cell_type": "code",
   "execution_count": 1384,
   "metadata": {},
   "outputs": [],
   "source": [
    "s = \"ccacccbcab\"\n",
    "wordDict = [\"cc\",\"bb\",\"aa\",\"bc\",\"ac\",\"ca\",\"ba\",\"cb\"]"
   ]
  },
  {
   "cell_type": "code",
   "execution_count": 1382,
   "metadata": {},
   "outputs": [],
   "source": [
    "s = \"a\"\n",
    "wordDict = [\"a\"]"
   ]
  },
  {
   "cell_type": "markdown",
   "metadata": {},
   "source": [
    "45 test case"
   ]
  },
  {
   "cell_type": "code",
   "execution_count": 1374,
   "metadata": {},
   "outputs": [],
   "source": [
    "s = \"fohhemkkaecojceoaejkkoedkofhmohkcjmkggcmnami\"\n",
    "wordDict = [\"kfomka\",\"hecagbngambii\",\"anobmnikj\",\"c\",\"nnkmfelneemfgcl\",\"ah\",\"bgomgohl\",\"lcbjbg\",\"ebjfoiddndih\",\"hjknoamjbfhckb\",\"eioldlijmmla\",\"nbekmcnakif\",\"fgahmihodolmhbi\",\"gnjfe\",\"hk\",\"b\",\"jbfgm\",\"ecojceoaejkkoed\",\"cemodhmbcmgl\",\"j\",\"gdcnjj\",\"kolaijoicbc\",\"liibjjcini\",\"lmbenj\",\"eklingemgdjncaa\",\"m\",\"hkh\",\"fblb\",\"fk\",\"nnfkfanaga\",\"eldjml\",\"iejn\",\"gbmjfdooeeko\",\"jafogijka\",\"ngnfggojmhclkjd\",\"bfagnfclg\",\"imkeobcdidiifbm\",\"ogeo\",\"gicjog\",\"cjnibenelm\",\"ogoloc\",\"edciifkaff\",\"kbeeg\",\"nebn\",\"jdd\",\"aeojhclmdn\",\"dilbhl\",\"dkk\",\"bgmck\",\"ohgkefkadonafg\",\"labem\",\"fheoglj\",\"gkcanacfjfhogjc\",\"eglkcddd\",\"lelelihakeh\",\"hhjijfiodfi\",\"enehbibnhfjd\",\"gkm\",\"ggj\",\"ag\",\"hhhjogk\",\"lllicdhihn\",\"goakjjnk\",\"lhbn\",\"fhheedadamlnedh\",\"bin\",\"cl\",\"ggjljjjf\",\"fdcdaobhlhgj\",\"nijlf\",\"i\",\"gaemagobjfc\",\"dg\",\"g\",\"jhlelodgeekj\",\"hcimohlni\",\"fdoiohikhacgb\",\"k\",\"doiaigclm\",\"bdfaoncbhfkdbjd\",\"f\",\"jaikbciac\",\"cjgadmfoodmba\",\"molokllh\",\"gfkngeebnggo\",\"lahd\",\"n\",\"ehfngoc\",\"lejfcee\",\"kofhmoh\",\"cgda\",\"de\",\"kljnicikjeh\",\"edomdbibhif\",\"jehdkgmmofihdi\",\"hifcjkloebel\",\"gcghgbemjege\",\"kobhhefbbb\",\"aaikgaolhllhlm\",\"akg\",\"kmmikgkhnn\",\"dnamfhaf\",\"mjhj\",\"ifadcgmgjaa\",\"acnjehgkflgkd\",\"bjj\",\"maihjn\",\"ojakklhl\",\"ign\",\"jhd\",\"kndkhbebgh\",\"amljjfeahcdlfdg\",\"fnboolobch\",\"gcclgcoaojc\",\"kfokbbkllmcd\",\"fec\",\"dljma\",\"noa\",\"cfjie\",\"fohhemkka\",\"bfaldajf\",\"nbk\",\"kmbnjoalnhki\",\"ccieabbnlhbjmj\",\"nmacelialookal\",\"hdlefnbmgklo\",\"bfbblofk\",\"doohocnadd\",\"klmed\",\"e\",\"hkkcmbljlojkghm\",\"jjiadlgf\",\"ogadjhambjikce\",\"bglghjndlk\",\"gackokkbhj\",\"oofohdogb\",\"leiolllnjj\",\"edekdnibja\",\"gjhglilocif\",\"ccfnfjalchc\",\"gl\",\"ihee\",\"cfgccdmecem\",\"mdmcdgjelhgk\",\"laboglchdhbk\",\"ajmiim\",\"cebhalkngloae\",\"hgohednmkahdi\",\"ddiecjnkmgbbei\",\"ajaengmcdlbk\",\"kgg\",\"ndchkjdn\",\"heklaamafiomea\",\"ehg\",\"imelcifnhkae\",\"hcgadilb\",\"elndjcodnhcc\",\"nkjd\",\"gjnfkogkjeobo\",\"eolega\",\"lm\",\"jddfkfbbbhia\",\"cddmfeckheeo\",\"bfnmaalmjdb\",\"fbcg\",\"ko\",\"mojfj\",\"kk\",\"bbljjnnikdhg\",\"l\",\"calbc\",\"mkekn\",\"ejlhdk\",\"hkebdiebecf\",\"emhelbbda\",\"mlba\",\"ckjmih\",\"odfacclfl\",\"lgfjjbgookmnoe\",\"begnkogf\",\"gakojeblk\",\"bfflcmdko\",\"cfdclljcg\",\"ho\",\"fo\",\"acmi\",\"oemknmffgcio\",\"mlkhk\",\"kfhkndmdojhidg\",\"ckfcibmnikn\",\"dgoecamdliaeeoa\",\"ocealkbbec\",\"kbmmihb\",\"ncikad\",\"hi\",\"nccjbnldneijc\",\"hgiccigeehmdl\",\"dlfmjhmioa\",\"kmff\",\"gfhkd\",\"okiamg\",\"ekdbamm\",\"fc\",\"neg\",\"cfmo\",\"ccgahikbbl\",\"khhoc\",\"elbg\",\"cbghbacjbfm\",\"jkagbmfgemjfg\",\"ijceidhhajmja\",\"imibemhdg\",\"ja\",\"idkfd\",\"ndogdkjjkf\",\"fhic\",\"ooajkki\",\"fdnjhh\",\"ba\",\"jdlnidngkfffbmi\",\"jddjfnnjoidcnm\",\"kghljjikbacd\",\"idllbbn\",\"d\",\"mgkajbnjedeiee\",\"fbllleanknmoomb\",\"lom\",\"kofjmmjm\",\"mcdlbglonin\",\"gcnboanh\",\"fggii\",\"fdkbmic\",\"bbiln\",\"cdjcjhonjgiagkb\",\"kooenbeoongcle\",\"cecnlfbaanckdkj\",\"fejlmog\",\"fanekdneoaammb\",\"maojbcegdamn\",\"bcmanmjdeabdo\",\"amloj\",\"adgoej\",\"jh\",\"fhf\",\"cogdljlgek\",\"o\",\"joeiajlioggj\",\"oncal\",\"lbgg\",\"elainnbffk\",\"hbdi\",\"femcanllndoh\",\"ke\",\"hmib\",\"nagfahhljh\",\"ibifdlfeechcbal\",\"knec\",\"oegfcghlgalcnno\",\"abiefmjldmln\",\"mlfglgni\",\"jkofhjeb\",\"ifjbneblfldjel\",\"nahhcimkjhjgb\",\"cdgkbn\",\"nnklfbeecgedie\",\"gmllmjbodhgllc\",\"hogollongjo\",\"fmoinacebll\",\"fkngbganmh\",\"jgdblmhlmfij\",\"fkkdjknahamcfb\",\"aieakdokibj\",\"hddlcdiailhd\",\"iajhmg\",\"jenocgo\",\"embdib\",\"dghbmljjogka\",\"bahcggjgmlf\",\"fb\",\"jldkcfom\",\"mfi\",\"kdkke\",\"odhbl\",\"jin\",\"kcjmkggcmnami\",\"kofig\",\"bid\",\"ohnohi\",\"fcbojdgoaoa\",\"dj\",\"ifkbmbod\",\"dhdedohlghk\",\"nmkeakohicfdjf\",\"ahbifnnoaldgbj\",\"egldeibiinoac\",\"iehfhjjjmil\",\"bmeimi\",\"ombngooicknel\",\"lfdkngobmik\",\"ifjcjkfnmgjcnmi\",\"fmf\",\"aoeaa\",\"an\",\"ffgddcjblehhggo\",\"hijfdcchdilcl\",\"hacbaamkhblnkk\",\"najefebghcbkjfl\",\"hcnnlogjfmmjcma\",\"njgcogemlnohl\",\"ihejh\",\"ej\",\"ofn\",\"ggcklj\",\"omah\",\"hg\",\"obk\",\"giig\",\"cklna\",\"lihaiollfnem\",\"ionlnlhjckf\",\"cfdlijnmgjoebl\",\"dloehimen\",\"acggkacahfhkdne\",\"iecd\",\"gn\",\"odgbnalk\",\"ahfhcd\",\"dghlag\",\"bchfe\",\"dldblmnbifnmlo\",\"cffhbijal\",\"dbddifnojfibha\",\"mhh\",\"cjjol\",\"fed\",\"bhcnf\",\"ciiibbedklnnk\",\"ikniooicmm\",\"ejf\",\"ammeennkcdgbjco\",\"jmhmd\",\"cek\",\"bjbhcmda\",\"kfjmhbf\",\"chjmmnea\",\"ifccifn\",\"naedmco\",\"iohchafbega\",\"kjejfhbco\",\"anlhhhhg\"]"
   ]
  },
  {
   "cell_type": "code",
   "execution_count": 1393,
   "metadata": {},
   "outputs": [
    {
     "data": {
      "text/plain": [
       "False"
      ]
     },
     "execution_count": 1393,
     "metadata": {},
     "output_type": "execute_result"
    }
   ],
   "source": [
    "Solution().wordBreak(s, wordDict)"
   ]
  },
  {
   "cell_type": "code",
   "execution_count": null,
   "metadata": {},
   "outputs": [],
   "source": []
  }
 ],
 "metadata": {
  "kernelspec": {
   "display_name": "Python 3",
   "language": "python",
   "name": "python3"
  },
  "language_info": {
   "codemirror_mode": {
    "name": "ipython",
    "version": 3
   },
   "file_extension": ".py",
   "mimetype": "text/x-python",
   "name": "python",
   "nbconvert_exporter": "python",
   "pygments_lexer": "ipython3",
   "version": "3.8.5"
  }
 },
 "nbformat": 4,
 "nbformat_minor": 4
}
