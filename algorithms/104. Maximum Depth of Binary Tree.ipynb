{
 "cells": [
  {
   "cell_type": "code",
   "execution_count": 2,
   "id": "a89e4518-1b71-41e6-b6a5-b433f2eda82c",
   "metadata": {},
   "outputs": [],
   "source": [
    "from typing import Optional"
   ]
  },
  {
   "cell_type": "code",
   "execution_count": 3,
   "id": "c1cf9d83-8ea6-4cac-903a-133fbb15b29f",
   "metadata": {},
   "outputs": [],
   "source": [
    "# Definition for a binary tree node.\n",
    "class TreeNode:\n",
    "    def __init__(self, val=0, left=None, right=None):\n",
    "        self.val = val\n",
    "        self.left = left\n",
    "        self.right = right"
   ]
  },
  {
   "cell_type": "code",
   "execution_count": 71,
   "id": "861bb9bf-d692-45e6-a919-81778b0e89e6",
   "metadata": {},
   "outputs": [],
   "source": [
    "from collections import deque\n",
    "class Solution:\n",
    "    def maxDepth(self, root: Optional[TreeNode]) -> int:\n",
    "        def getDepth(root):\n",
    "            if root is None:\n",
    "                return 0\n",
    "            \n",
    "            left = getDepth(root.left) + 1\n",
    "            right = getDepth(root.right) + 1\n",
    "            return max(left, right)\n",
    "        return getDepth(root)"
   ]
  },
  {
   "cell_type": "code",
   "execution_count": 125,
   "id": "14ff5970-cc5c-4c7c-b37f-7a14046f4777",
   "metadata": {},
   "outputs": [],
   "source": [
    "from collections import deque\n",
    "class Solution:\n",
    "    def maxDepth(self, root: Optional[TreeNode]) -> int:\n",
    "        result = 0\n",
    "        deq = deque([(root, 1)])\n",
    "        while deq:\n",
    "            node, depth = deq.popleft()\n",
    "            if node is None:\n",
    "                return 0\n",
    "            \n",
    "            if node.left:\n",
    "                deq.append((node.left, depth + 1))\n",
    "            if node.right:\n",
    "                deq.append((node.right, depth + 1))\n",
    "            result = max(result, depth)\n",
    "        return result"
   ]
  },
  {
   "cell_type": "code",
   "execution_count": 126,
   "id": "6ec450cd-7cf8-40bf-9624-0c0878984c2b",
   "metadata": {},
   "outputs": [],
   "source": [
    "t7 = TreeNode(7)\n",
    "t15 = TreeNode(15)\n",
    "t20 = TreeNode(20, t15, t7)\n",
    "t9 = TreeNode(9)\n",
    "root = TreeNode(3, t9, t20)"
   ]
  },
  {
   "cell_type": "code",
   "execution_count": 127,
   "id": "7f13205d-14a8-4327-b20a-7de641730fc2",
   "metadata": {},
   "outputs": [],
   "source": [
    "assert(3 == Solution().maxDepth(root))"
   ]
  },
  {
   "cell_type": "code",
   "execution_count": 130,
   "id": "b9f4ad65-a580-4ec5-ba6a-702a01b7aecb",
   "metadata": {},
   "outputs": [],
   "source": [
    "t5 = TreeNode(5)\n",
    "t4 = TreeNode(4, t5)\n",
    "t3 = TreeNode(3, t4)\n",
    "t2 = TreeNode(2, t3)\n",
    "root = TreeNode(1, t2)"
   ]
  },
  {
   "cell_type": "code",
   "execution_count": 131,
   "id": "d921de0b-85bb-469a-802d-b232c0c96fc9",
   "metadata": {},
   "outputs": [],
   "source": [
    "assert(5 == Solution().maxDepth(root))"
   ]
  },
  {
   "cell_type": "code",
   "execution_count": null,
   "id": "b4d555fc-d30d-4b3f-9651-4d892d050f15",
   "metadata": {},
   "outputs": [],
   "source": []
  }
 ],
 "metadata": {
  "kernelspec": {
   "display_name": "Python 3 (ipykernel)",
   "language": "python",
   "name": "python3"
  },
  "language_info": {
   "codemirror_mode": {
    "name": "ipython",
    "version": 3
   },
   "file_extension": ".py",
   "mimetype": "text/x-python",
   "name": "python",
   "nbconvert_exporter": "python",
   "pygments_lexer": "ipython3",
   "version": "3.9.7"
  }
 },
 "nbformat": 4,
 "nbformat_minor": 5
}
