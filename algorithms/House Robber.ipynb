{
 "cells": [
  {
   "cell_type": "code",
   "execution_count": 2,
   "metadata": {},
   "outputs": [],
   "source": [
    "from typing import List"
   ]
  },
  {
   "cell_type": "code",
   "execution_count": 51,
   "metadata": {},
   "outputs": [],
   "source": [
    "\n",
    "class Solution:\n",
    "    def rob(self, nums: List[int]) -> int:\n",
    "        result = 0\n",
    "        for n in range(len(nums)):\n",
    "            for steps in list(product(*[[2, 3]] * (len(nums) // 2 + 1))):\n",
    "                print(steps)\n",
    "                c = n\n",
    "                money = 0\n",
    "                visited = [0] * len(nums)\n",
    "                for step in steps:\n",
    "                    if len(nums) - 1 < c:\n",
    "                        break\n",
    "                    if not visited[c]:\n",
    "                        print('visit', c)\n",
    "                        visited[c] = 1\n",
    "                        money += nums[c]\n",
    "                        c += step\n",
    "                print('---------------------')\n",
    "                result = max(result, money)\n",
    "        return result"
   ]
  },
  {
   "cell_type": "code",
   "execution_count": 52,
   "metadata": {},
   "outputs": [],
   "source": [
    "s = Solution()"
   ]
  },
  {
   "cell_type": "code",
   "execution_count": 53,
   "metadata": {},
   "outputs": [],
   "source": [
    "nums = [7,1,3,9,1]"
   ]
  },
  {
   "cell_type": "code",
   "execution_count": 17,
   "metadata": {},
   "outputs": [],
   "source": [
    "nums = [1,2,3,1]"
   ]
  },
  {
   "cell_type": "code",
   "execution_count": 18,
   "metadata": {},
   "outputs": [],
   "source": [
    "nums = [4,1,2,7,5,3,1]"
   ]
  },
  {
   "cell_type": "code",
   "execution_count": null,
   "metadata": {},
   "outputs": [],
   "source": [
    "nums = [183,219,57,193,94,233,202,154,65,240,97,234,100,249,186,66,90,238,168,128,177,235,50,81,185,165,217,207,88,80,112,78,135,62,228,247,211]"
   ]
  },
  {
   "cell_type": "code",
   "execution_count": 54,
   "metadata": {},
   "outputs": [
    {
     "name": "stdout",
     "output_type": "stream",
     "text": [
      "(2, 2, 2)\n",
      "visit 0\n",
      "visit 2\n",
      "visit 4\n",
      "---------------------\n",
      "(2, 2, 3)\n",
      "visit 0\n",
      "visit 2\n",
      "visit 4\n",
      "---------------------\n",
      "(2, 3, 2)\n",
      "visit 0\n",
      "visit 2\n",
      "---------------------\n",
      "(2, 3, 3)\n",
      "visit 0\n",
      "visit 2\n",
      "---------------------\n",
      "(3, 2, 2)\n",
      "visit 0\n",
      "visit 3\n",
      "---------------------\n",
      "(3, 2, 3)\n",
      "visit 0\n",
      "visit 3\n",
      "---------------------\n",
      "(3, 3, 2)\n",
      "visit 0\n",
      "visit 3\n",
      "---------------------\n",
      "(3, 3, 3)\n",
      "visit 0\n",
      "visit 3\n",
      "---------------------\n",
      "(2, 2, 2)\n",
      "visit 1\n",
      "visit 3\n",
      "---------------------\n",
      "(2, 2, 3)\n",
      "visit 1\n",
      "visit 3\n",
      "---------------------\n",
      "(2, 3, 2)\n",
      "visit 1\n",
      "visit 3\n",
      "---------------------\n",
      "(2, 3, 3)\n",
      "visit 1\n",
      "visit 3\n",
      "---------------------\n",
      "(3, 2, 2)\n",
      "visit 1\n",
      "visit 4\n",
      "---------------------\n",
      "(3, 2, 3)\n",
      "visit 1\n",
      "visit 4\n",
      "---------------------\n",
      "(3, 3, 2)\n",
      "visit 1\n",
      "visit 4\n",
      "---------------------\n",
      "(3, 3, 3)\n",
      "visit 1\n",
      "visit 4\n",
      "---------------------\n",
      "(2, 2, 2)\n",
      "visit 2\n",
      "visit 4\n",
      "---------------------\n",
      "(2, 2, 3)\n",
      "visit 2\n",
      "visit 4\n",
      "---------------------\n",
      "(2, 3, 2)\n",
      "visit 2\n",
      "visit 4\n",
      "---------------------\n",
      "(2, 3, 3)\n",
      "visit 2\n",
      "visit 4\n",
      "---------------------\n",
      "(3, 2, 2)\n",
      "visit 2\n",
      "---------------------\n",
      "(3, 2, 3)\n",
      "visit 2\n",
      "---------------------\n",
      "(3, 3, 2)\n",
      "visit 2\n",
      "---------------------\n",
      "(3, 3, 3)\n",
      "visit 2\n",
      "---------------------\n",
      "(2, 2, 2)\n",
      "visit 3\n",
      "---------------------\n",
      "(2, 2, 3)\n",
      "visit 3\n",
      "---------------------\n",
      "(2, 3, 2)\n",
      "visit 3\n",
      "---------------------\n",
      "(2, 3, 3)\n",
      "visit 3\n",
      "---------------------\n",
      "(3, 2, 2)\n",
      "visit 3\n",
      "---------------------\n",
      "(3, 2, 3)\n",
      "visit 3\n",
      "---------------------\n",
      "(3, 3, 2)\n",
      "visit 3\n",
      "---------------------\n",
      "(3, 3, 3)\n",
      "visit 3\n",
      "---------------------\n",
      "(2, 2, 2)\n",
      "visit 4\n",
      "---------------------\n",
      "(2, 2, 3)\n",
      "visit 4\n",
      "---------------------\n",
      "(2, 3, 2)\n",
      "visit 4\n",
      "---------------------\n",
      "(2, 3, 3)\n",
      "visit 4\n",
      "---------------------\n",
      "(3, 2, 2)\n",
      "visit 4\n",
      "---------------------\n",
      "(3, 2, 3)\n",
      "visit 4\n",
      "---------------------\n",
      "(3, 3, 2)\n",
      "visit 4\n",
      "---------------------\n",
      "(3, 3, 3)\n",
      "visit 4\n",
      "---------------------\n"
     ]
    },
    {
     "data": {
      "text/plain": [
       "16"
      ]
     },
     "execution_count": 54,
     "metadata": {},
     "output_type": "execute_result"
    }
   ],
   "source": [
    "s.rob(nums)"
   ]
  },
  {
   "cell_type": "code",
   "execution_count": 283,
   "metadata": {},
   "outputs": [
    {
     "data": {
      "text/plain": [
       "[(2, 2, 2, 2),\n",
       " (2, 2, 2, 3),\n",
       " (2, 2, 3, 2),\n",
       " (2, 2, 3, 3),\n",
       " (2, 3, 2, 2),\n",
       " (2, 3, 2, 3),\n",
       " (2, 3, 3, 2),\n",
       " (2, 3, 3, 3),\n",
       " (3, 2, 2, 2),\n",
       " (3, 2, 2, 3),\n",
       " (3, 2, 3, 2),\n",
       " (3, 2, 3, 3),\n",
       " (3, 3, 2, 2),\n",
       " (3, 3, 2, 3),\n",
       " (3, 3, 3, 2),\n",
       " (3, 3, 3, 3)]"
      ]
     },
     "execution_count": 283,
     "metadata": {},
     "output_type": "execute_result"
    }
   ],
   "source": [
    "[(a, b, c, d) for a in [2, 3] for b in [2, 3] for c in [2, 3] for d in [2, 3]]"
   ]
  },
  {
   "cell_type": "code",
   "execution_count": 295,
   "metadata": {},
   "outputs": [],
   "source": [
    "from itertools import product"
   ]
  },
  {
   "cell_type": "code",
   "execution_count": 346,
   "metadata": {},
   "outputs": [
    {
     "data": {
      "text/plain": [
       "[(2, 2, 2, 2),\n",
       " (2, 2, 2, 3),\n",
       " (2, 2, 3, 2),\n",
       " (2, 2, 3, 3),\n",
       " (2, 3, 2, 2),\n",
       " (2, 3, 2, 3),\n",
       " (2, 3, 3, 2),\n",
       " (2, 3, 3, 3),\n",
       " (3, 2, 2, 2),\n",
       " (3, 2, 2, 3),\n",
       " (3, 2, 3, 2),\n",
       " (3, 2, 3, 3),\n",
       " (3, 3, 2, 2),\n",
       " (3, 3, 2, 3),\n",
       " (3, 3, 3, 2),\n",
       " (3, 3, 3, 3)]"
      ]
     },
     "execution_count": 346,
     "metadata": {},
     "output_type": "execute_result"
    }
   ],
   "source": [
    "list(product(*[[2, 3]] * 4))"
   ]
  },
  {
   "cell_type": "code",
   "execution_count": 55,
   "metadata": {},
   "outputs": [],
   "source": [
    "class Solution:\n",
    "    def rob(self, nums: List[int]) -> int:\n",
    "        a, b, c = 0, 0, 0\n",
    "        for n in nums:\n",
    "            c = max(b, n + a)\n",
    "            a = b\n",
    "            b = c\n",
    "        return c"
   ]
  },
  {
   "cell_type": "code",
   "execution_count": 56,
   "metadata": {},
   "outputs": [],
   "source": [
    "s = Solution()"
   ]
  },
  {
   "cell_type": "code",
   "execution_count": 57,
   "metadata": {},
   "outputs": [],
   "source": [
    "nums = [7,1,3,9,1]"
   ]
  },
  {
   "cell_type": "code",
   "execution_count": 58,
   "metadata": {},
   "outputs": [
    {
     "data": {
      "text/plain": [
       "16"
      ]
     },
     "execution_count": 58,
     "metadata": {},
     "output_type": "execute_result"
    }
   ],
   "source": [
    "s.rob(nums)"
   ]
  },
  {
   "cell_type": "code",
   "execution_count": 12,
   "metadata": {},
   "outputs": [],
   "source": [
    "class Solution:\n",
    "    def rob(self, nums: List[int], i = 0) -> int:\n",
    "        if i < len(nums):\n",
    "            return max(self.rob(nums, i + 1), nums[i] + self.rob(nums, i + 2))\n",
    "        else:\n",
    "            return 0"
   ]
  },
  {
   "cell_type": "code",
   "execution_count": 13,
   "metadata": {},
   "outputs": [],
   "source": [
    "s = Solution()"
   ]
  },
  {
   "cell_type": "code",
   "execution_count": 14,
   "metadata": {},
   "outputs": [],
   "source": [
    "nums = [7,1,3,9,1]"
   ]
  },
  {
   "cell_type": "code",
   "execution_count": 15,
   "metadata": {},
   "outputs": [
    {
     "data": {
      "text/plain": [
       "16"
      ]
     },
     "execution_count": 15,
     "metadata": {},
     "output_type": "execute_result"
    }
   ],
   "source": [
    "s.rob(nums)"
   ]
  },
  {
   "cell_type": "code",
   "execution_count": null,
   "outputs": [],
   "source": [
    "from itertools import product\n",
    "\n",
    "class Solution:\n",
    "    def __init__(self):\n",
    "        self.result = {}\n",
    "\n",
    "    def rob(self, nums: List[int], i = 0) -> int:\n",
    "        if i < len(nums):\n",
    "            if i in self.result:\n",
    "                return self.result[i]\n",
    "            else:\n",
    "                self.result[i] = max(self.rob(nums, i + 1), nums[i] + self.rob(nums, i + 2))\n",
    "                return self.result[i]\n",
    "        else:\n",
    "            return 0\n"
   ],
   "metadata": {
    "collapsed": false,
    "pycharm": {
     "name": "#%%\n"
    }
   }
  },
  {
   "cell_type": "markdown",
   "metadata": {},
   "source": [
    "References\n",
    "\n",
    "https://leetcode.com/problems/house-robber/discuss/1605797/C%2B%2BPython-4-Simple-Solutions-w-Explanation-or-Optimization-from-Brute-Force-to-DP"
   ]
  },
  {
   "cell_type": "code",
   "execution_count": null,
   "metadata": {},
   "outputs": [],
   "source": []
  }
 ],
 "metadata": {
  "kernelspec": {
   "display_name": "Python 3",
   "language": "python",
   "name": "python3"
  },
  "language_info": {
   "codemirror_mode": {
    "name": "ipython",
    "version": 3
   },
   "file_extension": ".py",
   "mimetype": "text/x-python",
   "name": "python",
   "nbconvert_exporter": "python",
   "pygments_lexer": "ipython3",
   "version": "3.8.5"
  }
 },
 "nbformat": 4,
 "nbformat_minor": 4
}