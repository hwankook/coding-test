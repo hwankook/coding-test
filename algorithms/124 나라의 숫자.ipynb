{
 "cells": [
  {
   "cell_type": "raw",
   "id": "4935683e-33c5-4db6-952b-adbe0f987608",
   "metadata": {},
   "source": [
    "1  = 1\n",
    "2  = 2\n",
    "3  = 3\n",
    "4  = 3 + 1\n",
    "5  = 3 + 2\n",
    "6  = 3 + 3\n",
    "7  = 3 + 3 + 1\n",
    "8  = 3 + 3 + 2\n",
    "9  = 3 + 3 + 3\n",
    "10 = 3 + 3 + 3 + 1     ->  41\n",
    "11 = 3 + 3 + 3 + 2     ->  42 \n",
    "12 = 3 + 3 + 3 + 3     ->  44\n",
    "13 = 3 + 3 + 3 + 3 + 1 -> 111"
   ]
  },
  {
   "cell_type": "code",
   "execution_count": 47,
   "id": "aee73238-7e46-47fd-8d13-91b6dd006a36",
   "metadata": {},
   "outputs": [],
   "source": [
    "def solution(n):\n",
    "    answer = ''\n",
    "    dict_124 = ['1', '2', '4']\n",
    "    while n > 0:\n",
    "        n -= 1\n",
    "        answer = dict_124[n % 3] + answer\n",
    "        n //= 3\n",
    "    return answer"
   ]
  },
  {
   "cell_type": "code",
   "execution_count": 48,
   "id": "cec13418-0709-4a78-bae6-bdb69d915c6f",
   "metadata": {},
   "outputs": [],
   "source": [
    "assert '41' == solution(10)"
   ]
  },
  {
   "cell_type": "code",
   "execution_count": 50,
   "id": "c52098c6-fb1e-4f5e-b3e8-25ee2b625213",
   "metadata": {},
   "outputs": [],
   "source": [
    "assert '111' == solution(13)"
   ]
  },
  {
   "cell_type": "markdown",
   "id": "7aefa1c8-7e3c-4c3f-9722-4d530aa0483f",
   "metadata": {},
   "source": [
    "------------------------------------------------------------------------------------------------------------------"
   ]
  },
  {
   "cell_type": "markdown",
   "id": "58e004a6-48ba-478f-9b8e-5577a5356fe5",
   "metadata": {},
   "source": [
    "Time Limit Exceeded"
   ]
  },
  {
   "cell_type": "code",
   "execution_count": 32,
   "id": "4e88edc0-a4ce-46e9-9f01-abeddaa482af",
   "metadata": {},
   "outputs": [],
   "source": [
    "def count(n, c, result):\n",
    "    while n > 0:\n",
    "        if n <= 3:\n",
    "            result.insert(0, n)\n",
    "        else:\n",
    "            c += 1\n",
    "        n -= 3\n",
    "    return c\n",
    "\n",
    "def solution(n):\n",
    "    answer = -1\n",
    "    dict_124 = {\n",
    "        1: '1',\n",
    "        2: '2',\n",
    "        3: '4',\n",
    "    }\n",
    "    result = []\n",
    "    c = count(n, 0, result)\n",
    "    while c >= 3:\n",
    "        c = count(c, 0, result)\n",
    "    if c != 0:\n",
    "        result.insert(0, c)\n",
    "    answer = ''.join([dict_124[r] for r in result])\n",
    "    return answer"
   ]
  },
  {
   "cell_type": "code",
   "execution_count": null,
   "id": "71691746-57da-421d-b085-e5dc3de11b60",
   "metadata": {},
   "outputs": [],
   "source": []
  }
 ],
 "metadata": {
  "kernelspec": {
   "display_name": "Python 3 (ipykernel)",
   "language": "python",
   "name": "python3"
  },
  "language_info": {
   "codemirror_mode": {
    "name": "ipython",
    "version": 3
   },
   "file_extension": ".py",
   "mimetype": "text/x-python",
   "name": "python",
   "nbconvert_exporter": "python",
   "pygments_lexer": "ipython3",
   "version": "3.9.7"
  }
 },
 "nbformat": 4,
 "nbformat_minor": 5
}
