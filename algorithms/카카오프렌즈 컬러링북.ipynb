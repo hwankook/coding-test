{
 "cells": [
  {
   "cell_type": "code",
   "execution_count": null,
   "id": "2b794a6a-b097-442b-bcac-940905536a2a",
   "metadata": {
    "tags": []
   },
   "outputs": [],
   "source": [
    "# Java code\n",
    "class Solution {\n",
    "    public boolean dfs(int m, int n, int[][] picture, int i, int j, int k, boolean[][] visited, int[] area, int[] answer) {\n",
    "        if (i < 0 || i >= m || j < 0 || j >= n) {\n",
    "            return false;\n",
    "        }\n",
    "\n",
    "        if (!visited[i][j] && picture[i][j] == k) {\n",
    "            visited[i][j] = true;\n",
    "            area[0] += 1;\n",
    "            if (answer[1] < area[0]) {\n",
    "                answer[1] = area[0];\n",
    "            }\n",
    "            dfs(m, n, picture, i - 1, j, k, visited, area, answer);\n",
    "            dfs(m, n, picture, i + 1, j, k, visited, area, answer);\n",
    "            dfs(m, n, picture, i, j - 1, k, visited, area, answer);\n",
    "            dfs(m, n, picture, i, j + 1, k, visited, area, answer);\n",
    "            return true;\n",
    "        }\n",
    "        return false;\n",
    "    }\n",
    "\n",
    "    public int[] solution(int m, int n, int[][] picture) {\n",
    "        boolean visited[][] = new boolean[m][n];\n",
    "        int[] area = {0};\n",
    "        int[] answer = {0, 0};\n",
    "        \n",
    "        for (int i = 0; i < m; i++) {\n",
    "            for (int j = 0; j < n; j++) {\n",
    "                int k = picture[i][j];\n",
    "                if (k != 0) {\n",
    "                    area[0] = 0;\n",
    "                    if (dfs(m, n, picture, i, j, k, visited, area, answer)) {\n",
    "                        answer[0] += 1;\n",
    "                    }\n",
    "                }\n",
    "            }\n",
    "        }\n",
    "        return answer;\n",
    "    }\n",
    "}"
   ]
  },
  {
   "cell_type": "code",
   "execution_count": 94,
   "id": "1d952b7c-1bc1-4bd4-a01a-906a5d46f3f8",
   "metadata": {},
   "outputs": [],
   "source": [
    "from typing import List"
   ]
  },
  {
   "cell_type": "code",
   "execution_count": 170,
   "id": "017a3ef7-6cf8-45ed-a82c-32a91d3854d2",
   "metadata": {},
   "outputs": [],
   "source": [
    "class Solution:\n",
    "    def maxAreaOfIsland(self, grid: List[List[int]]) -> int:\n",
    "        m, n = len(grid), len(grid[0])\n",
    "        visited = [[False] * n for _ in range(m)]\n",
    "        area = [0]\n",
    "        answer = [0, 0]\n",
    "        def dfs(i, j, k, area, answer):\n",
    "            if i < 0 or i >= m or j < 0 or j >= n:\n",
    "                return False\n",
    "            \n",
    "            if not visited[i][j] and grid[i][j] == k:\n",
    "                visited[i][j] = True\n",
    "                area[0] += 1\n",
    "                if answer[1] < area[0]:\n",
    "                    answer[1] = area[0]\n",
    "                dfs(i - 1, j, k, area, answer)\n",
    "                dfs(i + 1, j, k, area, answer)\n",
    "                dfs(i, j - 1, k, area, answer)\n",
    "                dfs(i, j + 1, k, area, answer)\n",
    "                return True\n",
    "            return False\n",
    "\n",
    "        for i in range(m):\n",
    "            for j in range(n):\n",
    "                k = grid[i][j]\n",
    "                if k != 0:\n",
    "                    area[0] = 0\n",
    "                    if dfs(i, j, k, area, answer):\n",
    "                        answer[0] += 1\n",
    "        return answer"
   ]
  },
  {
   "cell_type": "code",
   "execution_count": 172,
   "id": "d9b44892-734f-4851-9071-4cf407f88d31",
   "metadata": {},
   "outputs": [],
   "source": [
    "picture = [[1, 1, 1, 0], [1, 2, 2, 0], [1, 0, 0, 1], [0, 0, 0, 1], [0, 0, 0, 3], [0, 0, 0, 3]]\n",
    "assert [4, 5] == Solution().maxAreaOfIsland(picture)"
   ]
  },
  {
   "cell_type": "code",
   "execution_count": 173,
   "id": "6ac6a3ba-3c98-4d04-87ee-4d91b792d21e",
   "metadata": {},
   "outputs": [],
   "source": [
    "picture = [[1, 1, 1, 0], [1, 1, 1, 0], [0, 0, 0, 1], [0, 0, 0, 1], [0, 0, 0, 1], [0, 0, 0, 1]]\n",
    "assert [2, 6] == Solution().maxAreaOfIsland(picture)"
   ]
  },
  {
   "cell_type": "code",
   "execution_count": null,
   "id": "34aef425-b433-46f2-8072-16f76bed0dd5",
   "metadata": {},
   "outputs": [],
   "source": []
  }
 ],
 "metadata": {
  "kernelspec": {
   "display_name": "Python 3 (ipykernel)",
   "language": "python",
   "name": "python3"
  },
  "language_info": {
   "codemirror_mode": {
    "name": "ipython",
    "version": 3
   },
   "file_extension": ".py",
   "mimetype": "text/x-python",
   "name": "python",
   "nbconvert_exporter": "python",
   "pygments_lexer": "ipython3",
   "version": "3.9.7"
  }
 },
 "nbformat": 4,
 "nbformat_minor": 5
}
