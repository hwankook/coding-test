{
 "cells": [
  {
   "cell_type": "code",
   "execution_count": 32,
   "id": "bf039d6b-e55a-49db-8f63-9f5b7e62cfc7",
   "metadata": {},
   "outputs": [],
   "source": [
    "def solution(s):\n",
    "    stack = []\n",
    "    for c in s:\n",
    "        if stack:\n",
    "            p = stack[-1]\n",
    "            if c == p:\n",
    "                stack.pop()\n",
    "                continue\n",
    "        stack.append(c)\n",
    "    answer = 1 if len(stack) == 0 else 0\n",
    "    return answer"
   ]
  },
  {
   "cell_type": "code",
   "execution_count": 34,
   "id": "59fbb7af-75c2-45ad-a73a-d0dc20fb7285",
   "metadata": {},
   "outputs": [],
   "source": [
    "s = 'baabaa'\n",
    "assert 1 == solution(s)"
   ]
  },
  {
   "cell_type": "code",
   "execution_count": 35,
   "id": "f173598e-90ae-408a-90c0-0e4186911a61",
   "metadata": {},
   "outputs": [],
   "source": [
    "s = 'cdcd'\n",
    "assert 0 == solution(s)"
   ]
  },
  {
   "cell_type": "code",
   "execution_count": null,
   "id": "6695b51b-cf7a-4d76-bb3e-bc0d27949bac",
   "metadata": {},
   "outputs": [],
   "source": []
  }
 ],
 "metadata": {
  "kernelspec": {
   "display_name": "Python 3 (ipykernel)",
   "language": "python",
   "name": "python3"
  },
  "language_info": {
   "codemirror_mode": {
    "name": "ipython",
    "version": 3
   },
   "file_extension": ".py",
   "mimetype": "text/x-python",
   "name": "python",
   "nbconvert_exporter": "python",
   "pygments_lexer": "ipython3",
   "version": "3.9.7"
  }
 },
 "nbformat": 4,
 "nbformat_minor": 5
}
