{
 "cells": [
  {
   "cell_type": "code",
   "execution_count": 1,
   "id": "9d34eb07-5363-4a0e-8da6-88885b623d04",
   "metadata": {},
   "outputs": [],
   "source": [
    "from typing import Optional\n",
    "from typing import List"
   ]
  },
  {
   "cell_type": "code",
   "execution_count": 2,
   "id": "21b71fc9-dd0c-4c87-8bb4-8faaddc07505",
   "metadata": {},
   "outputs": [],
   "source": [
    "# Definition for a binary tree node.\n",
    "class TreeNode:\n",
    "    def __init__(self, val=0, left=None, right=None):\n",
    "        self.val = val\n",
    "        self.left = left\n",
    "        self.right = right\n",
    "    \n",
    "def create(root):\n",
    "    if len(root) == 0:\n",
    "        return None\n",
    "\n",
    "    val = root[0]\n",
    "    left = create_leaf(root, 1)\n",
    "    right = create_leaf(root, 2)\n",
    "    return TreeNode(val, left, right)\n",
    "\n",
    "def create_leaf(root, k):\n",
    "    if k >= len(root) or root[k] is None:\n",
    "        return None\n",
    "\n",
    "    leaf = TreeNode(root[k])\n",
    "    left = 2 * k + 1\n",
    "    leaf.left = create_leaf(root, left)\n",
    "\n",
    "    right = 2 * k + 2\n",
    "    leaf.right = create_leaf(root, right)\n",
    "\n",
    "    return leaf"
   ]
  },
  {
   "cell_type": "code",
   "execution_count": 369,
   "id": "4aed3573-b029-4fa5-891b-cc50bc60b154",
   "metadata": {
    "tags": []
   },
   "outputs": [],
   "source": [
    "from collections import deque\n",
    "\n",
    "class Solution:\n",
    "    def zigzagLevelOrder(self, root: Optional[TreeNode]) -> List[List[int]]:\n",
    "        result = []\n",
    "        deq = deque([(root, 0)])\n",
    "        while deq:\n",
    "            node, level = deq.popleft()\n",
    "            if node is None:\n",
    "                return []\n",
    "            if len(result) <= level:\n",
    "                result.append([node.val])\n",
    "            elif level % 2 == 0:\n",
    "                result[level].append(node.val)\n",
    "            else:\n",
    "                result[level].insert(0, node.val)\n",
    "                \n",
    "            if node.left:\n",
    "                deq.append((node.left, level + 1))\n",
    "            if node.right:\n",
    "                deq.append((node.right, level + 1))\n",
    "        return result"
   ]
  },
  {
   "cell_type": "code",
   "execution_count": 370,
   "id": "b9335b1c-ed71-4939-84cc-0d97cb5d9d7a",
   "metadata": {},
   "outputs": [
    {
     "data": {
      "text/plain": [
       "[[1], [3, 2], [4, 5]]"
      ]
     },
     "execution_count": 370,
     "metadata": {},
     "output_type": "execute_result"
    }
   ],
   "source": [
    "Solution().zigzagLevelOrder(create(root))"
   ]
  },
  {
   "cell_type": "code",
   "execution_count": 371,
   "id": "61513aa4-9ba4-46dd-99c1-6f4d791752cb",
   "metadata": {},
   "outputs": [],
   "source": [
    "root = [3,9,20,None,None,15,7]\n",
    "assert [[3], [20, 9], [15, 7]] == Solution().zigzagLevelOrder(create(root))"
   ]
  },
  {
   "cell_type": "code",
   "execution_count": 372,
   "id": "2c09b4ce-5f2c-4535-a3b0-519b951b1b97",
   "metadata": {},
   "outputs": [],
   "source": [
    "root = [1,2,3,4,None,None,5]\n",
    "assert [[1],[3,2],[4,5]] == Solution().zigzagLevelOrder(create(root))"
   ]
  },
  {
   "cell_type": "code",
   "execution_count": null,
   "id": "8aa6d210-a41c-43e6-a413-8fc3d28bb05e",
   "metadata": {},
   "outputs": [],
   "source": []
  }
 ],
 "metadata": {
  "kernelspec": {
   "display_name": "Python 3 (ipykernel)",
   "language": "python",
   "name": "python3"
  },
  "language_info": {
   "codemirror_mode": {
    "name": "ipython",
    "version": 3
   },
   "file_extension": ".py",
   "mimetype": "text/x-python",
   "name": "python",
   "nbconvert_exporter": "python",
   "pygments_lexer": "ipython3",
   "version": "3.9.7"
  }
 },
 "nbformat": 4,
 "nbformat_minor": 5
}
