{
  "nbformat": 4,
  "nbformat_minor": 0,
  "metadata": {
    "colab": {
      "provenance": [],
      "authorship_tag": "ABX9TyOr2znQNk2PVQb56POJ2JMj"
    },
    "kernelspec": {
      "name": "python3",
      "display_name": "Python 3"
    },
    "language_info": {
      "name": "python"
    }
  },
  "cells": [
    {
      "cell_type": "code",
      "source": [
        "def solution(n, w, num):\n",
        "    warehouse = []  # 창고 배열\n",
        "    row = []\n",
        "    reverse = False  # 왼→오(False), 오→왼(True)\n",
        "\n",
        "    # 2D 창고 배열 만들기\n",
        "    for i in range(1, n + 1):\n",
        "        row.append(i)\n",
        "        if len(row) == w or i == n:  # 한 줄이 다 찼거나 마지막 숫자인 경우\n",
        "            if i == n:\n",
        "                for i in range(w - len(row)):\n",
        "                    row.append(-1)\n",
        "            if reverse:\n",
        "                row.reverse()  # 방향이 바뀌면 뒤집기\n",
        "            warehouse.append(row)\n",
        "            row = []\n",
        "            reverse = not reverse  # 방향 전환\n",
        "\n",
        "    found = False\n",
        "    for r in range(len(warehouse)):\n",
        "        if num in warehouse[r]:\n",
        "            col = warehouse[r].index(num)\n",
        "            found = True\n",
        "            break\n",
        "\n",
        "    answer = 0\n",
        "    if not found:\n",
        "        return answer\n",
        "\n",
        "    for row in range(len(warehouse) - 1, -1, -1):\n",
        "        if warehouse[row][col] != -1 and warehouse[row][col] != num:\n",
        "            answer += 1\n",
        "        if warehouse[row][col] == num:\n",
        "            answer += 1\n",
        "            break\n",
        "    return answer\n",
        "\n",
        "n, w, num = 22, 6, 1\n",
        "solution(n, w, num)\n"
      ],
      "metadata": {
        "colab": {
          "base_uri": "https://localhost:8080/"
        },
        "id": "xw7OrT3Bo5IE",
        "outputId": "c99ff9b8-a0db-4388-afe5-71ae34b37464"
      },
      "execution_count": 31,
      "outputs": [
        {
          "output_type": "execute_result",
          "data": {
            "text/plain": [
              "3"
            ]
          },
          "metadata": {},
          "execution_count": 31
        }
      ]
    },
    {
      "cell_type": "code",
      "source": [],
      "metadata": {
        "id": "pIDOEzg0SITG"
      },
      "execution_count": null,
      "outputs": []
    }
  ]
}