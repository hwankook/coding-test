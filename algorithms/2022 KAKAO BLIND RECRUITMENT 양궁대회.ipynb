{
 "cells": [
  {
   "cell_type": "code",
   "execution_count": 18,
   "id": "adb5ab8f-6877-429d-a09d-806a7441afba",
   "metadata": {},
   "outputs": [],
   "source": [
    "def score(info, p):\n",
    "    apeach_score = 0\n",
    "    ryon_score = 0\n",
    "    for i in range(len(info)):\n",
    "        if p[i] == 0 and info[i] == 0:\n",
    "            continue\n",
    "        if p[i] <= info[i]:\n",
    "            apeach_score += 10 - i\n",
    "        else:\n",
    "            ryon_score += 10 - i\n",
    "    return ryon_score - apeach_score\n",
    "\n",
    "def dfs(info, p, n, v, result):\n",
    "    if n < 0:\n",
    "        return [-1]\n",
    "    \n",
    "    if v == len(info):\n",
    "        diff = score(info, p)\n",
    "        if result[0] < diff:\n",
    "            result[0] = diff\n",
    "            result[1] = p.copy()\n",
    "            result[1][10] += n\n",
    "        return\n",
    "    \n",
    "    p[10 - v] = info[10 - v] + 1\n",
    "    left = n - p[10 - v]\n",
    "    dfs(info, p, left, v + 1, result)\n",
    "    p[10 - v] = 0\n",
    "    dfs(info, p, n, v + 1, result)\n",
    "\n",
    "def solution(n, info):\n",
    "    result = [0, [-1]]\n",
    "    p = [0] * len(info)\n",
    "    dfs(info, p, n, 0, result)\n",
    "    return result[1]"
   ]
  },
  {
   "cell_type": "code",
   "execution_count": 22,
   "id": "39d91b52-fc6d-497c-9109-1858fddc804d",
   "metadata": {},
   "outputs": [],
   "source": [
    "n, info = 5, [2,1,1,1,0,0,0,0,0,0,0]\n",
    "assert [0,2,2,0,1,0,0,0,0,0,0] == solution(n, info)"
   ]
  },
  {
   "cell_type": "code",
   "execution_count": 23,
   "id": "7c1e9a2c-3dda-4714-a0bc-8fc9496ee948",
   "metadata": {},
   "outputs": [],
   "source": [
    "n, info = 1, [1,0,0,0,0,0,0,0,0,0,0]\n",
    "assert [-1] == solution(n, info)"
   ]
  },
  {
   "cell_type": "code",
   "execution_count": 21,
   "id": "bb3a8416-6082-456f-8c03-9f4605e7e3f9",
   "metadata": {},
   "outputs": [],
   "source": [
    "n, info = 9, [0, 0, 1, 2, 0, 1, 1, 1, 1, 1, 1]\n",
    "assert [1,1,2,0,1,2,2,0,0,0,0] == solution(n, info)"
   ]
  },
  {
   "cell_type": "code",
   "execution_count": 24,
   "id": "786508be-1b42-44c7-862d-d9825bfebd4b",
   "metadata": {},
   "outputs": [],
   "source": [
    "n, info = 10, [0,0,0,0,0,0,0,0,3,4,3]\n",
    "assert [1,1,1,1,1,1,1,1,0,0,2] == solution(n, info)"
   ]
  },
  {
   "cell_type": "code",
   "execution_count": null,
   "id": "7a61cae7-1451-4bf8-a7a0-e62638a1c5f3",
   "metadata": {},
   "outputs": [],
   "source": []
  }
 ],
 "metadata": {
  "kernelspec": {
   "display_name": "Python 3 (ipykernel)",
   "language": "python",
   "name": "python3"
  },
  "language_info": {
   "codemirror_mode": {
    "name": "ipython",
    "version": 3
   },
   "file_extension": ".py",
   "mimetype": "text/x-python",
   "name": "python",
   "nbconvert_exporter": "python",
   "pygments_lexer": "ipython3",
   "version": "3.9.7"
  }
 },
 "nbformat": 4,
 "nbformat_minor": 5
}
