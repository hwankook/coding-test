{
  "nbformat": 4,
  "nbformat_minor": 0,
  "metadata": {
    "colab": {
      "provenance": [],
      "authorship_tag": "ABX9TyOmR1xK2YmZSxNHsLiRF+gN",
      "include_colab_link": true
    },
    "kernelspec": {
      "name": "python3",
      "display_name": "Python 3"
    },
    "language_info": {
      "name": "python"
    }
  },
  "cells": [
    {
      "cell_type": "markdown",
      "metadata": {
        "id": "view-in-github",
        "colab_type": "text"
      },
      "source": [
        "<a href=\"https://colab.research.google.com/github/hwankook/coding-test/blob/main/algorithms/%EB%B4%89%EC%9D%B8%EB%90%9C_%EC%A3%BC%EB%AC%B8.ipynb\" target=\"_parent\"><img src=\"https://colab.research.google.com/assets/colab-badge.svg\" alt=\"Open In Colab\"/></a>"
      ]
    },
    {
      "cell_type": "code",
      "execution_count": 13,
      "metadata": {
        "colab": {
          "base_uri": "https://localhost:8080/"
        },
        "id": "sFUs7BUu323m",
        "outputId": "0eac78e5-36e3-49c5-93ff-68bcb7db2e2a"
      },
      "outputs": [
        {
          "output_type": "stream",
          "name": "stdout",
          "text": [
            "ah\n",
            "jxk\n"
          ]
        }
      ],
      "source": [
        "def solution(n, bans):\n",
        "    def convert_string_to_base26(s):\n",
        "        \"\"\" 주어진 문자열을 26진법 숫자로 변환 \"\"\"\n",
        "        result = 0\n",
        "        for c in s:\n",
        "            value = ord(c) - ord('a') + 1\n",
        "            result = result * 26 + value\n",
        "        return result\n",
        "\n",
        "    def convert_to_base26(num):\n",
        "        \"\"\" 26진법 숫자를 다시 문자열로 변환 \"\"\"\n",
        "        result = []\n",
        "        while num > 0:\n",
        "            num -= 1  # 1-based index\n",
        "            result.append(chr(ord('a') + (num % 26)))\n",
        "            num //= 26\n",
        "        return ''.join(result[::-1])  # 문자열 뒤집기\n",
        "\n",
        "    # 1. 삭제된 주문을 26진법 숫자로 변환 후 정렬\n",
        "    banned_numbers = sorted(convert_string_to_base26(ban) for ban in bans)\n",
        "\n",
        "    # 2. n번째 주문을 찾기\n",
        "    target = n\n",
        "    for banned in banned_numbers:\n",
        "        if target >= banned:\n",
        "            target += 1\n",
        "        else:\n",
        "            break\n",
        "\n",
        "    # 3. 결과를 26진법 문자열로 변환하여 반환\n",
        "    return convert_to_base26(target)\n",
        "\n",
        "\n",
        "print(solution(30, [\"d\", \"e\", \"bb\", \"aa\", \"ae\"]))\n",
        "print(solution(7388, [\"gqk\", \"kdn\", \"jxj\", \"jxi\", \"fug\", \"jxg\", \"ewq\", \"len\", \"bhc\"]))\n"
      ]
    },
    {
      "cell_type": "code",
      "source": [],
      "metadata": {
        "id": "u6Oj3kry4C30"
      },
      "execution_count": null,
      "outputs": []
    }
  ]
}