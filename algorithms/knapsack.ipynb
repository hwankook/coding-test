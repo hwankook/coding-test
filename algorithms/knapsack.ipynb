{
 "cells": [
  {
   "cell_type": "code",
   "execution_count": 20,
   "metadata": {},
   "outputs": [],
   "source": [
    "n = 3\n",
    "w = [10, 20, 30]\n",
    "v = [60, 100, 120]\n",
    "W = 50"
   ]
  },
  {
   "cell_type": "code",
   "execution_count": 21,
   "metadata": {},
   "outputs": [],
   "source": [
    "def knapsack(n, W, w, v):\n",
    "    # Base Case\n",
    "    if n == 0 or W == 0:\n",
    "        return 0\n",
    "\n",
    "    # If weight of the nth item is more than Knapsack of capacity W,\n",
    "    # then this item cannot be included in the optimal solution\n",
    "    if W < w[n - 1]:\n",
    "        return knapsack(n - 1, W, w, v)\n",
    " \n",
    "    # return the maximum of two cases:\n",
    "    # (1) not included\n",
    "    # (2) nth item included\n",
    "    return max(knapsack(n - 1, W, w, v), knapsack(n - 1, W - w[n - 1], w, v) + v[n - 1])"
   ]
  },
  {
   "cell_type": "code",
   "execution_count": 22,
   "metadata": {},
   "outputs": [
    {
     "data": {
      "text/plain": [
       "220"
      ]
     },
     "execution_count": 22,
     "metadata": {},
     "output_type": "execute_result"
    }
   ],
   "source": [
    "knapsack(n, W, w, v)"
   ]
  },
  {
   "cell_type": "code",
   "execution_count": 23,
   "metadata": {},
   "outputs": [],
   "source": [
    "def knapsack(n, W, w, v):\n",
    "    K = [[0 for x in range(W + 1)] for x in range(n + 1)]\n",
    "    for i in range(n + 1):\n",
    "        for j in range(W + 1):\n",
    "            if i == 0 or j == 0:\n",
    "                K[i][j] = 0\n",
    "            elif j < w[i - 1]:\n",
    "                K[i][j] = K[i - 1][j]\n",
    "            else:\n",
    "                K[i][j] = max(K[i - 1][j], K[i - 1][j - w[i - 1]] + v[i - 1])\n",
    "    return K[n][W]"
   ]
  },
  {
   "cell_type": "code",
   "execution_count": 24,
   "metadata": {},
   "outputs": [
    {
     "data": {
      "text/plain": [
       "220"
      ]
     },
     "execution_count": 24,
     "metadata": {},
     "output_type": "execute_result"
    }
   ],
   "source": [
    "knapsack(n, W, w, v)"
   ]
  },
  {
   "cell_type": "code",
   "execution_count": null,
   "metadata": {},
   "outputs": [],
   "source": []
  }
 ],
 "metadata": {
  "kernelspec": {
   "display_name": "Python 3",
   "language": "python",
   "name": "python3"
  },
  "language_info": {
   "codemirror_mode": {
    "name": "ipython",
    "version": 3
   },
   "file_extension": ".py",
   "mimetype": "text/x-python",
   "name": "python",
   "nbconvert_exporter": "python",
   "pygments_lexer": "ipython3",
   "version": "3.8.5"
  }
 },
 "nbformat": 4,
 "nbformat_minor": 4
}