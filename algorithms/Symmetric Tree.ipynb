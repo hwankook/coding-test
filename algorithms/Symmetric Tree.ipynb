{
 "cells": [
  {
   "cell_type": "code",
   "execution_count": 2,
   "metadata": {},
   "outputs": [],
   "source": [
    "from typing import Optional, List"
   ]
  },
  {
   "cell_type": "code",
   "execution_count": 3,
   "metadata": {},
   "outputs": [],
   "source": [
    "class TreeNode:\n",
    "    def __init__(self, val=0, left=None, right=None):\n",
    "        self.val = val\n",
    "        self.left = left\n",
    "        self.right = right"
   ]
  },
  {
   "cell_type": "code",
   "execution_count": 314,
   "metadata": {},
   "outputs": [],
   "source": [
    "class Solution:\n",
    "\n",
    "    def left_traverse(self, root: Optional[TreeNode], result) -> List[int]:\n",
    "        if root:\n",
    "            result.append(root.val)\n",
    "            self.left_traverse(root.left, result)\n",
    "            if root.left is None and root.right is not None:\n",
    "                result.append(None)\n",
    "            self.left_traverse(root.right, result)\n",
    "            if root.left is not None and root.right is None:\n",
    "                result.append(None)\n",
    "\n",
    "        return result\n",
    "    \n",
    "    def right_traverse(self, root: Optional[TreeNode], result) -> List[int]:\n",
    "        if root:\n",
    "            result.append(root.val)\n",
    "            self.right_traverse(root.right, result)\n",
    "            if root.left is not None and root.right is None:\n",
    "                result.append(None)\n",
    "            self.right_traverse(root.left, result)\n",
    "            if root.left is None and root.right is not None:\n",
    "                result.append(None)\n",
    "        return result\n",
    "\n",
    "    def isSymmetric(self, root: Optional[TreeNode]) -> bool:\n",
    "        L, R = [], []\n",
    "        print(self.left_traverse(root.left, L))\n",
    "        print(self.right_traverse(root.right, R))\n",
    "        return self.left_traverse(root.left, L) == self.right_traverse(root.right, R)"
   ]
  },
  {
   "cell_type": "code",
   "execution_count": 315,
   "metadata": {},
   "outputs": [],
   "source": [
    "t7 = TreeNode(3)\n",
    "t6 = TreeNode(4)\n",
    "t5 = TreeNode(2, t6, t7)\n",
    "t4 = TreeNode(4)\n",
    "t3 = TreeNode(3)\n",
    "t2 = TreeNode(2, t3, t4)\n",
    "t1 = TreeNode(1, t2, t5)"
   ]
  },
  {
   "cell_type": "code",
   "execution_count": 316,
   "metadata": {},
   "outputs": [],
   "source": [
    "t6 = TreeNode(3)\n",
    "t5 = TreeNode(2, t6, None)\n",
    "t4 = TreeNode(3)\n",
    "t2 = TreeNode(2, None, t4)\n",
    "t1 = TreeNode(1, t2, t5)"
   ]
  },
  {
   "cell_type": "code",
   "execution_count": 317,
   "metadata": {},
   "outputs": [],
   "source": [
    "t8 = TreeNode(2)\n",
    "t7 = TreeNode(4, t8)\n",
    "t6 = TreeNode(1, None, t7)\n",
    "t5 = TreeNode(2)\n",
    "t4 = TreeNode(1, t5)\n",
    "t2 = TreeNode(4, None, t4)\n",
    "t1 = TreeNode(5, t2, t6)"
   ]
  },
  {
   "cell_type": "code",
   "execution_count": 318,
   "metadata": {},
   "outputs": [],
   "source": [
    "s = Solution()"
   ]
  },
  {
   "cell_type": "code",
   "execution_count": 319,
   "metadata": {},
   "outputs": [
    {
     "name": "stdout",
     "output_type": "stream",
     "text": [
      "[4, None, 1, 2, None]\n",
      "[1, 4, None, 2, None]\n"
     ]
    },
    {
     "data": {
      "text/plain": [
       "False"
      ]
     },
     "execution_count": 319,
     "metadata": {},
     "output_type": "execute_result"
    }
   ],
   "source": [
    "s.isSymmetric(t1)"
   ]
  },
  {
   "cell_type": "code",
   "execution_count": null,
   "metadata": {},
   "outputs": [],
   "source": []
  }
 ],
 "metadata": {
  "kernelspec": {
   "display_name": "Python 3",
   "language": "python",
   "name": "python3"
  },
  "language_info": {
   "codemirror_mode": {
    "name": "ipython",
    "version": 3
   },
   "file_extension": ".py",
   "mimetype": "text/x-python",
   "name": "python",
   "nbconvert_exporter": "python",
   "pygments_lexer": "ipython3",
   "version": "3.8.5"
  }
 },
 "nbformat": 4,
 "nbformat_minor": 4
}
