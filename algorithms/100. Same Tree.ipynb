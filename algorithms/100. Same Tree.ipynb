{
 "cells": [
  {
   "cell_type": "code",
   "execution_count": null,
   "id": "3f6f9ef2-1dc6-4363-9271-b533ebd58d64",
   "metadata": {},
   "outputs": [],
   "source": [
    "from typing import Optional"
   ]
  },
  {
   "cell_type": "code",
   "execution_count": 231,
   "id": "53127c3c-82ad-4b6c-876a-dded09ecd79d",
   "metadata": {},
   "outputs": [],
   "source": [
    "# Definition for a binary tree node.\n",
    "class TreeNode:\n",
    "    def __init__(self, val=0, left=None, right=None):\n",
    "        self.val = val\n",
    "        self.left = left\n",
    "        self.right = right"
   ]
  },
  {
   "cell_type": "code",
   "execution_count": 372,
   "id": "5ddca08c-1481-48a0-bf46-e9379d16af45",
   "metadata": {},
   "outputs": [],
   "source": [
    "class Solution:\n",
    "    def isSameTree(self, p: Optional[TreeNode], q: Optional[TreeNode]) -> bool:\n",
    "        if p is None and q is None:\n",
    "            return True\n",
    "        if p is None or q is None:\n",
    "            return False\n",
    "        if p.val != q.val:\n",
    "            return False\n",
    "        return self.isSameTree(p.left, q.left) and self.isSameTree(p.right, q.right)"
   ]
  },
  {
   "cell_type": "code",
   "execution_count": 388,
   "id": "41f028a9-1868-4933-840b-cb8de19d6244",
   "metadata": {},
   "outputs": [],
   "source": [
    "from collections import deque\n",
    "\n",
    "class Solution:\n",
    "    def isSameTree(self, p: Optional[TreeNode], q: Optional[TreeNode]) -> bool:\n",
    "        def same(p, q):\n",
    "            if p is None and q is None:\n",
    "                return True\n",
    "            if p is None or q is None:\n",
    "                return False\n",
    "            if p.val != q.val:\n",
    "                return False\n",
    "            return True\n",
    "        deq = deque([(p, q)])\n",
    "        while deq:\n",
    "            p, q = deq.popleft()\n",
    "            if not same(p, q):\n",
    "                return False\n",
    "            if p and q:\n",
    "                deq.append((p.left, q.left))\n",
    "                deq.append((p.right, q.right))\n",
    "\n",
    "        return True"
   ]
  },
  {
   "cell_type": "code",
   "execution_count": 389,
   "id": "4441cbf9-de01-4848-8b82-63ce8f848389",
   "metadata": {},
   "outputs": [],
   "source": [
    "p = [1,2]\n",
    "q = [1,None,2]"
   ]
  },
  {
   "cell_type": "code",
   "execution_count": 390,
   "id": "e64a72b3-432e-47b1-84f2-f854d2b81f05",
   "metadata": {},
   "outputs": [],
   "source": [
    "p2 = TreeNode(2)\n",
    "p = TreeNode(1, p2)"
   ]
  },
  {
   "cell_type": "code",
   "execution_count": 391,
   "id": "4977bd44-b3ab-4db9-ad03-928c0d31a6b1",
   "metadata": {},
   "outputs": [],
   "source": [
    "q3 = TreeNode(2)\n",
    "q2 = TreeNode(None)\n",
    "q = TreeNode(1, None, q3)"
   ]
  },
  {
   "cell_type": "code",
   "execution_count": 393,
   "id": "72040ddc-aceb-4a7d-988c-ae9e00242d7f",
   "metadata": {},
   "outputs": [],
   "source": [
    "assert(False == Solution().isSameTree(p, q))"
   ]
  },
  {
   "cell_type": "code",
   "execution_count": null,
   "id": "bf36fd6c-5f04-4508-9de4-36978e99efd9",
   "metadata": {},
   "outputs": [],
   "source": []
  }
 ],
 "metadata": {
  "kernelspec": {
   "display_name": "Python 3 (ipykernel)",
   "language": "python",
   "name": "python3"
  },
  "language_info": {
   "codemirror_mode": {
    "name": "ipython",
    "version": 3
   },
   "file_extension": ".py",
   "mimetype": "text/x-python",
   "name": "python",
   "nbconvert_exporter": "python",
   "pygments_lexer": "ipython3",
   "version": "3.9.7"
  }
 },
 "nbformat": 4,
 "nbformat_minor": 5
}
