{
 "cells": [
  {
   "cell_type": "code",
   "execution_count": 3,
   "metadata": {},
   "outputs": [],
   "source": [
    "from typing import List"
   ]
  },
  {
   "cell_type": "code",
   "execution_count": 140,
   "metadata": {},
   "outputs": [],
   "source": [
    "class Solution:\n",
    "    def jump(self, nums: List[int]) -> int:\n",
    "        count, max_jump, last_position = 0, 0, 0\n",
    "        for i in range(len(nums) - 1):\n",
    "            max_jump = max(max_jump, i + nums[i])\n",
    "            if i == last_position:\n",
    "                last_position = max_jump\n",
    "                count += 1\n",
    "        return count"
   ]
  },
  {
   "cell_type": "code",
   "execution_count": 134,
   "metadata": {},
   "outputs": [],
   "source": [
    "nums = [0]"
   ]
  },
  {
   "cell_type": "code",
   "execution_count": 133,
   "metadata": {},
   "outputs": [],
   "source": [
    "nums = [1,2]"
   ]
  },
  {
   "cell_type": "code",
   "execution_count": 132,
   "metadata": {},
   "outputs": [],
   "source": [
    "nums = [2,3,0,1,4]"
   ]
  },
  {
   "cell_type": "code",
   "execution_count": 141,
   "metadata": {},
   "outputs": [],
   "source": [
    "nums = [2,3,1,1,4]"
   ]
  },
  {
   "cell_type": "code",
   "execution_count": 142,
   "metadata": {},
   "outputs": [
    {
     "data": {
      "text/plain": [
       "2"
      ]
     },
     "execution_count": 142,
     "metadata": {},
     "output_type": "execute_result"
    }
   ],
   "source": [
    "Solution().jump(nums)"
   ]
  },
  {
   "cell_type": "markdown",
   "metadata": {},
   "source": [
    "------------------------------------------------------------------------------------------------------------------"
   ]
  },
  {
   "cell_type": "markdown",
   "metadata": {},
   "source": [
    "Time Limit Exceeded"
   ]
  },
  {
   "cell_type": "raw",
   "metadata": {},
   "source": [
    "index: 0\n",
    "n: 2\n",
    "0 < n\n",
    "move(2), move(1)\n",
    "move(2):\n",
    "index: 0 + 2\n",
    "n: 1\n",
    "move(1)\n",
    "index: 2 + 1\n",
    "n: 1\n",
    "index: 3 + 1\n",
    "index == last\n",
    "arrived\n",
    "\n",
    "move(1):\n",
    "index: 0 + 1\n",
    "n: 3\n",
    "move(3), move(2), move(1)\n",
    "move(3):\n",
    "index: 1 + 3\n",
    "index == last\n",
    "arrived\n",
    "move(2):\n",
    "index: 1 + 2\n",
    "n: nums[2] -> 1\n",
    "move(1)\n",
    "index: 3 + 1\n",
    "index == last\n",
    "arrived\n",
    "..."
   ]
  },
  {
   "cell_type": "code",
   "execution_count": 112,
   "metadata": {},
   "outputs": [],
   "source": [
    "class Solution:\n",
    "    def __init__(self):\n",
    "        self.result = 0\n",
    "\n",
    "    def jump(self, nums: List[int]) -> int:\n",
    "        self.result = len(nums)\n",
    "        i, count, last = 0, 0, len(nums) - 1\n",
    "        def move(i, n, count):\n",
    "            if 0 < n:\n",
    "                i += n\n",
    "                count += 1\n",
    "                if last <= i:\n",
    "                    self.result = min(self.result, count)\n",
    "                    return count\n",
    "                for j in range(nums[i], 0, -1):\n",
    "                    move(i, j, count)\n",
    "        n = nums[0]\n",
    "        if nums == [0] * len(nums):\n",
    "            return 0\n",
    "        if nums == [1]:\n",
    "            return 0\n",
    "        for j in range(n, 0, -1):\n",
    "            move(i, j, count)\n",
    "        return self.result"
   ]
  },
  {
   "cell_type": "code",
   "execution_count": null,
   "metadata": {},
   "outputs": [],
   "source": []
  }
 ],
 "metadata": {
  "kernelspec": {
   "display_name": "Python 3",
   "language": "python",
   "name": "python3"
  },
  "language_info": {
   "codemirror_mode": {
    "name": "ipython",
    "version": 3
   },
   "file_extension": ".py",
   "mimetype": "text/x-python",
   "name": "python",
   "nbconvert_exporter": "python",
   "pygments_lexer": "ipython3",
   "version": "3.8.5"
  }
 },
 "nbformat": 4,
 "nbformat_minor": 4
}
