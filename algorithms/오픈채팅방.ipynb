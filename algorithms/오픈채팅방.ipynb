{
 "cells": [
  {
   "cell_type": "code",
   "execution_count": 123,
   "id": "4c68620e-28c9-48a6-87ad-27b667701a52",
   "metadata": {},
   "outputs": [],
   "source": [
    "def solution(record):\n",
    "    result = []\n",
    "    id_list = {}\n",
    "    for r in record:\n",
    "        if len(r.split()) > 2:\n",
    "            op, id, nick = r.split()\n",
    "            id_list[id] = nick\n",
    "\n",
    "    for r in record:\n",
    "        if len(r.split()) > 2:\n",
    "            op, id, nick = r.split()\n",
    "            if op == 'Enter':\n",
    "                result.append(f'{id_list[id]}님이 들어왔습니다.')\n",
    "        else:\n",
    "            op, id = r.split()\n",
    "            result.append(f'{id_list[id]}님이 나갔습니다.')\n",
    "    \n",
    "    return result"
   ]
  },
  {
   "cell_type": "code",
   "execution_count": 125,
   "id": "e0dabf63-f7bd-4ed8-a517-3c1866536d21",
   "metadata": {},
   "outputs": [],
   "source": [
    "record = [\"Enter uid1234 Muzi\", \"Enter uid4567 Prodo\",\"Leave uid1234\",\"Enter uid1234 Prodo\",\"Change uid4567 Ryan\"]\n",
    "assert [\"Prodo님이 들어왔습니다.\", \"Ryan님이 들어왔습니다.\", \"Prodo님이 나갔습니다.\", \"Prodo님이 들어왔습니다.\"] == solution(record)"
   ]
  },
  {
   "cell_type": "code",
   "execution_count": null,
   "id": "d8f67d2f-0229-473d-9011-56aa836dfeaf",
   "metadata": {},
   "outputs": [],
   "source": []
  }
 ],
 "metadata": {
  "kernelspec": {
   "display_name": "Python 3 (ipykernel)",
   "language": "python",
   "name": "python3"
  },
  "language_info": {
   "codemirror_mode": {
    "name": "ipython",
    "version": 3
   },
   "file_extension": ".py",
   "mimetype": "text/x-python",
   "name": "python",
   "nbconvert_exporter": "python",
   "pygments_lexer": "ipython3",
   "version": "3.9.7"
  }
 },
 "nbformat": 4,
 "nbformat_minor": 5
}
