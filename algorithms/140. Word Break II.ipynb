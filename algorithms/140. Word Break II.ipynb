{
 "cells": [
  {
   "cell_type": "code",
   "execution_count": 2,
   "metadata": {},
   "outputs": [],
   "source": [
    "from typing import List"
   ]
  },
  {
   "cell_type": "code",
   "execution_count": 1676,
   "metadata": {},
   "outputs": [],
   "source": [
    "class Solution:\n",
    "    def __init__(self):\n",
    "        self.result = []\n",
    "        self.words = []\n",
    "        \n",
    "    def wordBreak(self, s: str, wordDict: List[str]) -> bool:\n",
    "        def dp(start):\n",
    "            if start == len(s):\n",
    "                self.result.append(' '.join(self.words))\n",
    "                if self.words:\n",
    "                    self.words.pop()\n",
    "                return True\n",
    "    \n",
    "            for end in range(start, len(s) + 1):\n",
    "                word = s[start:end]\n",
    "                if word in wordDict:\n",
    "                    self.words.append(word)\n",
    "                    if not dp(end):\n",
    "                        if self.words:\n",
    "                            self.words.pop()\n",
    "            return False\n",
    "        dp(0)\n",
    "        return self.result"
   ]
  },
  {
   "cell_type": "code",
   "execution_count": 1677,
   "metadata": {},
   "outputs": [],
   "source": [
    "s = \"catsanddog\"\n",
    "wordDict = [\"cat\",\"cats\",\"and\",\"sand\",\"dog\"]"
   ]
  },
  {
   "cell_type": "code",
   "execution_count": 1678,
   "metadata": {},
   "outputs": [],
   "source": [
    "s = \"pineapplepenapple\"\n",
    "wordDict = [\"apple\",\"pen\",\"applepen\",\"pine\",\"pineapple\"]"
   ]
  },
  {
   "cell_type": "code",
   "execution_count": 1679,
   "metadata": {},
   "outputs": [],
   "source": [
    "s = \"catsandog\"\n",
    "wordDict = [\"cats\",\"dog\",\"sand\",\"and\",\"cat\"]"
   ]
  },
  {
   "cell_type": "code",
   "execution_count": 1680,
   "metadata": {},
   "outputs": [],
   "source": [
    "s = \"pineapplepenapple\"\n",
    "wordDict = [\"apple\",\"pen\",\"applepen\",\"pine\",\"pineapple\"]"
   ]
  },
  {
   "cell_type": "code",
   "execution_count": 1681,
   "metadata": {},
   "outputs": [],
   "source": [
    "s = \"aaaaaaa\"\n",
    "wordDict = [\"aaaa\",\"aaa\"]"
   ]
  },
  {
   "cell_type": "code",
   "execution_count": 1682,
   "metadata": {},
   "outputs": [],
   "source": [
    "s = \"aaaaaaa\"\n",
    "wordDict = [\"aaaa\",\"aa\",\"a\"]"
   ]
  },
  {
   "cell_type": "code",
   "execution_count": 1683,
   "metadata": {},
   "outputs": [
    {
     "data": {
      "text/plain": [
       "['a a a a a a a',\n",
       " 'a a a a a aa',\n",
       " 'a a a a aa a',\n",
       " 'a a a aa a a',\n",
       " 'a a a aa aa',\n",
       " 'a a a aaaa',\n",
       " 'a a aa a a a',\n",
       " 'a a aa a aa',\n",
       " 'a a aa aa a',\n",
       " 'a a aaaa a',\n",
       " 'a aa a a a a',\n",
       " 'a aa a a aa',\n",
       " 'a aa a aa a',\n",
       " 'a aa aa a a',\n",
       " 'a aa aa aa',\n",
       " 'a aa aaaa',\n",
       " 'a aaaa a a',\n",
       " 'a aaaa aa',\n",
       " 'aa a a a a a',\n",
       " 'aa a a a aa',\n",
       " 'aa a a aa a',\n",
       " 'aa a aa a a',\n",
       " 'aa a aa aa',\n",
       " 'aa a aaaa',\n",
       " 'aa aa a a a',\n",
       " 'aa aa a aa',\n",
       " 'aa aa aa a',\n",
       " 'aa aaaa a',\n",
       " 'aaaa a a a',\n",
       " 'aaaa a aa',\n",
       " 'aaaa aa a']"
      ]
     },
     "execution_count": 1683,
     "metadata": {},
     "output_type": "execute_result"
    }
   ],
   "source": [
    "Solution().wordBreak(s, wordDict)"
   ]
  },
  {
   "cell_type": "code",
   "execution_count": null,
   "metadata": {},
   "outputs": [],
   "source": []
  }
 ],
 "metadata": {
  "kernelspec": {
   "display_name": "Python 3",
   "language": "python",
   "name": "python3"
  },
  "language_info": {
   "codemirror_mode": {
    "name": "ipython",
    "version": 3
   },
   "file_extension": ".py",
   "mimetype": "text/x-python",
   "name": "python",
   "nbconvert_exporter": "python",
   "pygments_lexer": "ipython3",
   "version": "3.8.5"
  }
 },
 "nbformat": 4,
 "nbformat_minor": 4
}
