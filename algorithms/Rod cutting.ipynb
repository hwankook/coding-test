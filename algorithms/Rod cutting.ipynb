{
 "cells": [
  {
   "cell_type": "code",
   "execution_count": 69,
   "metadata": {},
   "outputs": [],
   "source": [
    "length = [1, 2, 3, 4, 5, 6, 7, 8, 9, 10]\n",
    "prices = [1, 5, 8, 9, 10, 17, 17, 20, 24, 30]"
   ]
  },
  {
   "cell_type": "code",
   "execution_count": 70,
   "metadata": {},
   "outputs": [],
   "source": [
    "def cut_rod(p, n):\n",
    "    if n == 0:\n",
    "        return 0\n",
    "    q = -1\n",
    "    for i in range(1, n + 1):\n",
    "        q = max(q, p[i - 1] + cut_rod(p, n - i))\n",
    "    return q"
   ]
  },
  {
   "cell_type": "code",
   "execution_count": 98,
   "metadata": {},
   "outputs": [
    {
     "data": {
      "text/plain": [
       "18"
      ]
     },
     "execution_count": 98,
     "metadata": {},
     "output_type": "execute_result"
    }
   ],
   "source": [
    "cut_rod(prices, 7)"
   ]
  },
  {
   "cell_type": "code",
   "execution_count": 78,
   "metadata": {},
   "outputs": [],
   "source": [
    "def memoized_cut_rod(p, n):\n",
    "    r = [-1] * (n + 1)\n",
    "    def memoized_cut_rod_aux(p, n, r):\n",
    "        if 0 <= r[n]:\n",
    "            return r[n]\n",
    "        if n == 0:\n",
    "            q = 0\n",
    "        else:\n",
    "            q = -1\n",
    "            for i in range(1, n + 1):\n",
    "                q = max(q, p[i - 1] + cut_rod(p, n - i))\n",
    "        r[n] = q\n",
    "        return q\n",
    "\n",
    "    return memoized_cut_rod_aux(p, n, r)"
   ]
  },
  {
   "cell_type": "code",
   "execution_count": 99,
   "metadata": {},
   "outputs": [
    {
     "data": {
      "text/plain": [
       "18"
      ]
     },
     "execution_count": 99,
     "metadata": {},
     "output_type": "execute_result"
    }
   ],
   "source": [
    "memoized_cut_rod(prices, 7)"
   ]
  },
  {
   "cell_type": "code",
   "execution_count": 84,
   "metadata": {},
   "outputs": [],
   "source": [
    "def bottom_up_cut_rod(p, n):\n",
    "    r = [0] * (n + 1)\n",
    "    for j in range(1, n + 1):\n",
    "        q = -1\n",
    "        for i in range(1, j + 1):\n",
    "            q = max(q, p[i - 1] + r[j - i])\n",
    "        r[j] = q\n",
    "    return r[n]"
   ]
  },
  {
   "cell_type": "code",
   "execution_count": 97,
   "metadata": {},
   "outputs": [
    {
     "data": {
      "text/plain": [
       "18"
      ]
     },
     "execution_count": 97,
     "metadata": {},
     "output_type": "execute_result"
    }
   ],
   "source": [
    "bottom_up_cut_rod(prices, 7)"
   ]
  },
  {
   "cell_type": "code",
   "execution_count": 87,
   "metadata": {},
   "outputs": [],
   "source": [
    "def extended_bottom_up_cut_rod(p, n):\n",
    "    r = [0] * (n + 1)\n",
    "    s = [0] * (n + 1)\n",
    "    for j in range(1, n + 1):\n",
    "        q = -1\n",
    "        for i in range(1, j + 1):\n",
    "            if q < p[i - 1] + r[j - i]:\n",
    "                q = p[i - 1] + r[j - i]\n",
    "                s[j] = i\n",
    "        r[j] = q\n",
    "    return r, s"
   ]
  },
  {
   "cell_type": "code",
   "execution_count": 96,
   "metadata": {},
   "outputs": [
    {
     "data": {
      "text/plain": [
       "([0, 1, 5, 8, 10, 13, 17, 18], [0, 1, 2, 3, 2, 2, 6, 1])"
      ]
     },
     "execution_count": 96,
     "metadata": {},
     "output_type": "execute_result"
    }
   ],
   "source": [
    "extended_bottom_up_cut_rod(prices, 7)"
   ]
  },
  {
   "cell_type": "code",
   "execution_count": 102,
   "metadata": {},
   "outputs": [],
   "source": [
    "def print_cut_rod_solution(p, n):\n",
    "    (r, s) = extended_bottom_up_cut_rod(p, n)\n",
    "    while 0 < n:\n",
    "        print(s[n])\n",
    "        n = n - s[n]"
   ]
  },
  {
   "cell_type": "code",
   "execution_count": 103,
   "metadata": {},
   "outputs": [
    {
     "name": "stdout",
     "output_type": "stream",
     "text": [
      "1\n",
      "6\n"
     ]
    }
   ],
   "source": [
    "print_cut_rod_solution(prices, 7)"
   ]
  },
  {
   "cell_type": "code",
   "execution_count": null,
   "metadata": {},
   "outputs": [],
   "source": []
  }
 ],
 "metadata": {
  "kernelspec": {
   "display_name": "Python 3",
   "language": "python",
   "name": "python3"
  },
  "language_info": {
   "codemirror_mode": {
    "name": "ipython",
    "version": 3
   },
   "file_extension": ".py",
   "mimetype": "text/x-python",
   "name": "python",
   "nbconvert_exporter": "python",
   "pygments_lexer": "ipython3",
   "version": "3.8.5"
  }
 },
 "nbformat": 4,
 "nbformat_minor": 4
}
