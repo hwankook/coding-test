{
 "cells": [
  {
   "cell_type": "code",
   "execution_count": 162,
   "metadata": {},
   "outputs": [],
   "source": [
    "s = [0, 1, 3, 0, 5, 3, 5, 6, 8, 8, 2, 12]\n",
    "f = [0, 4, 5, 6, 7, 9, 9, 10, 11, 12, 14, 16]"
   ]
  },
  {
   "cell_type": "code",
   "execution_count": 163,
   "metadata": {},
   "outputs": [],
   "source": [
    "def recursive_activity_selector(s, f, k, n):\n",
    "    m = k + 1\n",
    "    while m < n and s[m] < f[k]:\n",
    "        m = m + 1\n",
    "    if m < n:\n",
    "        return 'a' + str(m) + recursive_activity_selector(s, f, m, n)\n",
    "    else:\n",
    "        return ''"
   ]
  },
  {
   "cell_type": "code",
   "execution_count": 164,
   "metadata": {},
   "outputs": [
    {
     "data": {
      "text/plain": [
       "'a1a4a8a11'"
      ]
     },
     "execution_count": 164,
     "metadata": {},
     "output_type": "execute_result"
    }
   ],
   "source": [
    "n = len(s)\n",
    "recursive_activity_selector(s, f, 0, n)"
   ]
  },
  {
   "cell_type": "code",
   "execution_count": 180,
   "metadata": {},
   "outputs": [],
   "source": [
    "def greedy_activity_selector(s, f):\n",
    "    n = len(s)\n",
    "    A = ['a1']\n",
    "    k = 1\n",
    "    for m in range(2, n):\n",
    "        if f[k] <= s[m]:\n",
    "            A.append('a' + str(m))\n",
    "            k = m\n",
    "    return A"
   ]
  },
  {
   "cell_type": "code",
   "execution_count": 181,
   "metadata": {},
   "outputs": [
    {
     "data": {
      "text/plain": [
       "['a1', 'a4', 'a8', 'a11']"
      ]
     },
     "execution_count": 181,
     "metadata": {},
     "output_type": "execute_result"
    }
   ],
   "source": [
    "greedy_activity_selector(s, f)"
   ]
  },
  {
   "cell_type": "code",
   "execution_count": null,
   "metadata": {},
   "outputs": [],
   "source": []
  }
 ],
 "metadata": {
  "kernelspec": {
   "display_name": "Python 3",
   "language": "python",
   "name": "python3"
  },
  "language_info": {
   "codemirror_mode": {
    "name": "ipython",
    "version": 3
   },
   "file_extension": ".py",
   "mimetype": "text/x-python",
   "name": "python",
   "nbconvert_exporter": "python",
   "pygments_lexer": "ipython3",
   "version": "3.8.5"
  }
 },
 "nbformat": 4,
 "nbformat_minor": 4
}
