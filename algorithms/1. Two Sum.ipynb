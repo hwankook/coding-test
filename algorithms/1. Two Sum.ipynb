{
 "cells": [
  {
   "cell_type": "code",
   "execution_count": 1,
   "id": "5db8e3ad-f69a-4fd5-b6e4-be0087e65db4",
   "metadata": {},
   "outputs": [],
   "source": [
    "from typing import List"
   ]
  },
  {
   "cell_type": "code",
   "execution_count": 36,
   "id": "7d2e7019-083a-475b-afd7-daad984397c1",
   "metadata": {
    "tags": []
   },
   "outputs": [],
   "source": [
    "class Solution:\n",
    "    def twoSum(self, nums: List[int], target: int) -> List[int]:\n",
    "        diff = {}\n",
    "        for i, n in enumerate(nums):\n",
    "            if target - n in diff.keys():\n",
    "                return [diff[target - n], i]\n",
    "            else:\n",
    "                diff[n] = i"
   ]
  },
  {
   "cell_type": "code",
   "execution_count": 65,
   "id": "e793d2ca-6a13-426a-8f60-a8967835ce33",
   "metadata": {},
   "outputs": [
    {
     "data": {
      "text/plain": [
       "[0, 1]"
      ]
     },
     "execution_count": 65,
     "metadata": {},
     "output_type": "execute_result"
    }
   ],
   "source": [
    "nums, target = [2,7,11,15], 9\n",
    "Solution().twoSum(nums, target)"
   ]
  },
  {
   "cell_type": "code",
   "execution_count": 64,
   "id": "bb5bca6c-5e79-4272-9517-dc23e6ccff03",
   "metadata": {},
   "outputs": [
    {
     "data": {
      "text/plain": [
       "[1, 2]"
      ]
     },
     "execution_count": 64,
     "metadata": {},
     "output_type": "execute_result"
    }
   ],
   "source": [
    "nums, target = [3,2,4], 6\n",
    "Solution().twoSum(nums, target)"
   ]
  },
  {
   "cell_type": "code",
   "execution_count": 63,
   "id": "20ae65d0-10bf-4be5-ace7-9e362d10637b",
   "metadata": {},
   "outputs": [
    {
     "data": {
      "text/plain": [
       "[0, 1]"
      ]
     },
     "execution_count": 63,
     "metadata": {},
     "output_type": "execute_result"
    }
   ],
   "source": [
    "nums, target = [3,3], 6\n",
    "Solution().twoSum(nums, target)"
   ]
  },
  {
   "cell_type": "code",
   "execution_count": 62,
   "id": "81882e25-9068-4b99-855b-49517fa80694",
   "metadata": {},
   "outputs": [
    {
     "data": {
      "text/plain": [
       "[0, 1]"
      ]
     },
     "execution_count": 62,
     "metadata": {},
     "output_type": "execute_result"
    }
   ],
   "source": [
    "nums, target = [2,7,11,15], 9\n",
    "Solution().twoSum(nums, target)"
   ]
  },
  {
   "cell_type": "code",
   "execution_count": 36,
   "id": "d8b101af-1a9c-4c06-8ec2-9566c201387a",
   "metadata": {
    "tags": []
   },
   "outputs": [],
   "source": [
    "class Solution:\n",
    "    def twoSum(self, nums: List[int], target: int) -> List[int]:\n",
    "        for i, v in enumerate(nums):\n",
    "            for i2, v2 in enumerate(nums):\n",
    "                if i != i2 and v + v2 == target:\n",
    "                    return [i, i2]"
   ]
  },
  {
   "cell_type": "code",
   "execution_count": null,
   "id": "10ecafa1-97ac-40b8-a812-cf3e308d7d4a",
   "metadata": {},
   "outputs": [],
   "source": []
  }
 ],
 "metadata": {
  "kernelspec": {
   "display_name": "Python 3 (ipykernel)",
   "language": "python",
   "name": "python3"
  },
  "language_info": {
   "codemirror_mode": {
    "name": "ipython",
    "version": 3
   },
   "file_extension": ".py",
   "mimetype": "text/x-python",
   "name": "python",
   "nbconvert_exporter": "python",
   "pygments_lexer": "ipython3",
   "version": "3.9.7"
  }
 },
 "nbformat": 4,
 "nbformat_minor": 5
}
