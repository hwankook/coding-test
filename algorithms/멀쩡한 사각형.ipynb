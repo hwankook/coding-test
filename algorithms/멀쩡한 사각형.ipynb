{
 "cells": [
  {
   "cell_type": "code",
   "execution_count": 1,
   "id": "9ef6ad4e-8cd0-461c-b251-4c2b02c99652",
   "metadata": {},
   "outputs": [],
   "source": [
    "def gcd(a, b):\n",
    "    if a % b == 0:\n",
    "        return b\n",
    "    else:\n",
    "        return gcd(b, a % b)"
   ]
  },
  {
   "cell_type": "code",
   "execution_count": 2,
   "id": "7da08324-5e1c-4cd0-88f2-980b40fcdd6a",
   "metadata": {},
   "outputs": [],
   "source": [
    "def solution(w, h):\n",
    "    answer = w * h - (w + h - gcd(w, h))\n",
    "    return answer"
   ]
  },
  {
   "cell_type": "code",
   "execution_count": 3,
   "id": "9bc3f071-aeb3-4fae-9d0b-a227775f3acb",
   "metadata": {},
   "outputs": [],
   "source": [
    "w, h = 8, 12\n",
    "assert 80 == solution(w, h)"
   ]
  },
  {
   "cell_type": "code",
   "execution_count": null,
   "id": "247d044a-50a8-4a98-98d1-3425d4e21ee3",
   "metadata": {},
   "outputs": [],
   "source": []
  }
 ],
 "metadata": {
  "kernelspec": {
   "display_name": "Python 3 (ipykernel)",
   "language": "python",
   "name": "python3"
  },
  "language_info": {
   "codemirror_mode": {
    "name": "ipython",
    "version": 3
   },
   "file_extension": ".py",
   "mimetype": "text/x-python",
   "name": "python",
   "nbconvert_exporter": "python",
   "pygments_lexer": "ipython3",
   "version": "3.9.7"
  }
 },
 "nbformat": 4,
 "nbformat_minor": 5
}
