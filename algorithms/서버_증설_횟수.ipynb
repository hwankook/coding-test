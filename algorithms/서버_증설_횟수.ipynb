{
  "nbformat": 4,
  "nbformat_minor": 0,
  "metadata": {
    "colab": {
      "provenance": [],
      "authorship_tag": "ABX9TyMSQGpOP1hWClcgWJGkEgYN",
      "include_colab_link": true
    },
    "kernelspec": {
      "name": "python3",
      "display_name": "Python 3"
    },
    "language_info": {
      "name": "python"
    }
  },
  "cells": [
    {
      "cell_type": "markdown",
      "metadata": {
        "id": "view-in-github",
        "colab_type": "text"
      },
      "source": [
        "<a href=\"https://colab.research.google.com/github/hwankook/coding-test/blob/main/algorithms/%EC%84%9C%EB%B2%84_%EC%A6%9D%EC%84%A4_%ED%9A%9F%EC%88%98.ipynb\" target=\"_parent\"><img src=\"https://colab.research.google.com/assets/colab-badge.svg\" alt=\"Open In Colab\"/></a>"
      ]
    },
    {
      "cell_type": "code",
      "execution_count": 37,
      "metadata": {
        "colab": {
          "base_uri": "https://localhost:8080/"
        },
        "id": "q1RtZV67ZQVY",
        "outputId": "87f05f48-5062-4461-b8cf-e4cdaede6daa"
      },
      "outputs": [
        {
          "output_type": "execute_result",
          "data": {
            "text/plain": [
              "12"
            ]
          },
          "metadata": {},
          "execution_count": 37
        }
      ],
      "source": [
        "def solution(players, m, k):\n",
        "    answer = 0\n",
        "    servers = []  # 각 서버가 남은 운영 시간을 저장하는 리스트\n",
        "\n",
        "    for t, p in enumerate(players):\n",
        "        # 현재 운영 중인 서버들에서 사용 시간이 남아 있는 서버만 유지\n",
        "        servers = [time_left - 1 for time_left in servers if time_left > 1]\n",
        "\n",
        "        # 필요한 서버 수 (n × m 이상일 때 최소 n대 운영)\n",
        "        required_servers = p // m  # 문제의 조건을 반영하여 수정\n",
        "\n",
        "        # 현재 운영 중인 서버의 수\n",
        "        available_servers = len(servers)\n",
        "\n",
        "        # 부족한 서버 수만큼 새로 증설\n",
        "        if required_servers > available_servers:\n",
        "            new_servers = required_servers - available_servers\n",
        "            servers.extend([k] * new_servers)  # 새로 증설한 서버들의 운영 시간을 k로 설정\n",
        "            answer += new_servers  # 총 증설 횟수 증가\n",
        "\n",
        "        # 현재 상태 출력 (디버깅용)\n",
        "        # print(f\"Time {t}: players={p}, required_servers={required_servers}, servers={servers}\")\n",
        "\n",
        "    return answer\n",
        "\n",
        "# 테스트\n",
        "players = [0, 2, 3, 3, 1, 2, 0, 0, 0, 0, 4, 2, 0, 6, 0, 4, 2, 13, 3, 5, 10, 0, 1, 5]\n",
        "m = 3\n",
        "k = 5\n",
        "solution(players, m, k)  # 예상 결과: 7\n",
        "\n",
        "players = [0, 0, 0, 10, 0, 12, 0, 15, 0, 1, 0, 1, 0, 0, 0, 5, 0, 0, 11, 0, 8, 0, 0, 0]\n",
        "m = 5\n",
        "k = 1\n",
        "solution(players, m, k) # 예상 결과: 11\n",
        "\n",
        "players = [0, 0, 0, 0, 0, 2, 0, 0, 0, 1, 0, 5, 0, 2, 0, 1, 0, 0, 0, 0, 0, 0, 0, 1]\n",
        "m = 1\n",
        "k = 1\n",
        "solution(players, m, k) # 예상 결과: 12"
      ]
    },
    {
      "cell_type": "code",
      "source": [],
      "metadata": {
        "id": "E1x2-azFtdoO"
      },
      "execution_count": null,
      "outputs": []
    }
  ]
}