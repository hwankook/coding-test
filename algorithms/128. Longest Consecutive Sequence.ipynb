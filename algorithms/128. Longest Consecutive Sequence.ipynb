{
 "cells": [
  {
   "cell_type": "code",
   "execution_count": 1,
   "metadata": {},
   "outputs": [],
   "source": [
    "from typing import List"
   ]
  },
  {
   "cell_type": "code",
   "execution_count": 324,
   "metadata": {},
   "outputs": [],
   "source": [
    "class Solution:\n",
    "    def longestConsecutive(self, nums: List[int]) -> int:\n",
    "        if len(nums) <= 0:\n",
    "            return 0\n",
    "        \n",
    "        s = set(nums)\n",
    "        \n",
    "        result = 1\n",
    "        for n in s:\n",
    "            if n - 1 not in s:\n",
    "                current = n\n",
    "                count = 1\n",
    "                while current + 1 in s:\n",
    "                    current += 1\n",
    "                    count += 1\n",
    "                result = max(result, count)\n",
    "        return result"
   ]
  },
  {
   "cell_type": "code",
   "execution_count": 325,
   "metadata": {},
   "outputs": [],
   "source": [
    "nums = [100,4,200,1,3,2]"
   ]
  },
  {
   "cell_type": "code",
   "execution_count": 326,
   "metadata": {},
   "outputs": [
    {
     "data": {
      "text/plain": [
       "4"
      ]
     },
     "execution_count": 326,
     "metadata": {},
     "output_type": "execute_result"
    }
   ],
   "source": [
    "Solution().longestConsecutive(nums)"
   ]
  },
  {
   "cell_type": "markdown",
   "metadata": {},
   "source": [
    "------------------------------------------------------------------------------------------------------------------"
   ]
  },
  {
   "cell_type": "code",
   "execution_count": 48,
   "metadata": {},
   "outputs": [],
   "source": [
    "nums = [0,3,7,2,5,8,4,6,0,1]"
   ]
  },
  {
   "cell_type": "code",
   "execution_count": 33,
   "metadata": {},
   "outputs": [],
   "source": [
    "for q in range(len(nums)):\n",
    "    temp = nums[q]\n",
    "    p = q\n",
    "    while 0 < p and temp < nums[p - 1]:\n",
    "        nums[p] = nums[p - 1]\n",
    "        p -= 1\n",
    "    nums[p] = temp"
   ]
  },
  {
   "cell_type": "code",
   "execution_count": 34,
   "metadata": {},
   "outputs": [
    {
     "data": {
      "text/plain": [
       "[1, 2, 3, 4, 100, 200]"
      ]
     },
     "execution_count": 34,
     "metadata": {},
     "output_type": "execute_result"
    }
   ],
   "source": [
    "nums"
   ]
  },
  {
   "cell_type": "code",
   "execution_count": 38,
   "metadata": {},
   "outputs": [],
   "source": [
    "nums = [0, 1, 2, 10, 11, 12, 13, 100, 200]"
   ]
  },
  {
   "cell_type": "code",
   "execution_count": 51,
   "metadata": {},
   "outputs": [],
   "source": [
    "nums = []"
   ]
  },
  {
   "cell_type": "code",
   "execution_count": 52,
   "metadata": {},
   "outputs": [],
   "source": [
    "nums = [0]"
   ]
  },
  {
   "cell_type": "code",
   "execution_count": 53,
   "metadata": {},
   "outputs": [],
   "source": [
    "nums = [1,2,0,1]"
   ]
  },
  {
   "cell_type": "code",
   "execution_count": 45,
   "metadata": {},
   "outputs": [
    {
     "data": {
      "text/plain": [
       "4"
      ]
     },
     "execution_count": 45,
     "metadata": {},
     "output_type": "execute_result"
    }
   ],
   "source": [
    "result= 0\n",
    "count = 1\n",
    "prev = nums[0]\n",
    "for n in nums:\n",
    "    if prev + 1 == n:\n",
    "        prev = n\n",
    "        count += 1\n",
    "        result = max(result, count)\n",
    "    else:\n",
    "        prev = n\n",
    "        count = 1\n",
    "result"
   ]
  },
  {
   "cell_type": "code",
   "execution_count": 72,
   "metadata": {},
   "outputs": [],
   "source": [
    "class Solution:\n",
    "    def longestConsecutive(self, nums: List[int]) -> int:\n",
    "        if len(nums) <= 0:\n",
    "            return 0\n",
    "        \n",
    "        for q in range(len(nums)):\n",
    "            temp = nums[q]\n",
    "            p = q\n",
    "            while 0 < p and temp < nums[p - 1]:\n",
    "                nums[p] = nums[p - 1]\n",
    "                p -= 1\n",
    "            nums[p] = temp\n",
    "\n",
    "        result= 1\n",
    "        count = 1\n",
    "        for i in range(1, len(nums)):\n",
    "            if nums[i - 1] == nums[i]:\n",
    "                continue\n",
    "            elif nums[i - 1] + 1 == nums[i]:\n",
    "                count += 1\n",
    "                result = max(result, count)\n",
    "            else:\n",
    "                count = 1\n",
    "        return result"
   ]
  },
  {
   "cell_type": "code",
   "execution_count": 73,
   "metadata": {},
   "outputs": [
    {
     "data": {
      "text/plain": [
       "3"
      ]
     },
     "execution_count": 73,
     "metadata": {},
     "output_type": "execute_result"
    }
   ],
   "source": [
    "Solution().longestConsecutive(nums)"
   ]
  },
  {
   "cell_type": "code",
   "execution_count": 315,
   "metadata": {},
   "outputs": [],
   "source": [
    "nums = [0, 0]"
   ]
  },
  {
   "cell_type": "code",
   "execution_count": 270,
   "metadata": {},
   "outputs": [],
   "source": [
    "nums = [1,2,0,1]"
   ]
  },
  {
   "cell_type": "code",
   "execution_count": 292,
   "metadata": {},
   "outputs": [],
   "source": [
    "nums = [0,-1]"
   ]
  },
  {
   "cell_type": "code",
   "execution_count": 228,
   "metadata": {},
   "outputs": [],
   "source": [
    "nums = [9,1,4,7,3,-1,0,5,8,-1,6]"
   ]
  },
  {
   "cell_type": "code",
   "execution_count": 264,
   "metadata": {},
   "outputs": [],
   "source": [
    "nums = [100,4,200,1,3,2]"
   ]
  },
  {
   "cell_type": "code",
   "execution_count": 259,
   "metadata": {},
   "outputs": [],
   "source": [
    "nums = [0,1,2,4,8,5,6,7,9,3,55,88,77,99,999999999]"
   ]
  },
  {
   "cell_type": "code",
   "execution_count": 312,
   "metadata": {},
   "outputs": [],
   "source": [
    "nums = [1,0,-1]"
   ]
  },
  {
   "cell_type": "code",
   "execution_count": 260,
   "metadata": {},
   "outputs": [],
   "source": [
    "class Solution:\n",
    "    def longestConsecutive(self, nums: List[int]) -> int:\n",
    "        if len(nums) <= 0:\n",
    "            return 0\n",
    "        \n",
    "        temp = {}\n",
    "        for n in nums:\n",
    "            temp[n] = n\n",
    "        \n",
    "        result = 1\n",
    "        count = 1\n",
    "        sorted_key = sorted(temp.keys())\n",
    "        prev = sorted_key[0]\n",
    "        for key in sorted_key[1:]:\n",
    "            if prev == temp[key]:\n",
    "                result = 1\n",
    "                count = 1\n",
    "                continue\n",
    "            elif prev + 1 == temp[key]:\n",
    "                count += 1\n",
    "                result = max(result, count)\n",
    "            else:\n",
    "                count = 1\n",
    "            prev = temp[key]\n",
    "        return result"
   ]
  },
  {
   "cell_type": "code",
   "execution_count": 261,
   "metadata": {},
   "outputs": [
    {
     "data": {
      "text/plain": [
       "10"
      ]
     },
     "execution_count": 261,
     "metadata": {},
     "output_type": "execute_result"
    }
   ],
   "source": [
    "Solution().longestConsecutive(nums)"
   ]
  },
  {
   "cell_type": "code",
   "execution_count": null,
   "metadata": {},
   "outputs": [],
   "source": []
  }
 ],
 "metadata": {
  "kernelspec": {
   "display_name": "Python 3",
   "language": "python",
   "name": "python3"
  },
  "language_info": {
   "codemirror_mode": {
    "name": "ipython",
    "version": 3
   },
   "file_extension": ".py",
   "mimetype": "text/x-python",
   "name": "python",
   "nbconvert_exporter": "python",
   "pygments_lexer": "ipython3",
   "version": "3.8.5"
  }
 },
 "nbformat": 4,
 "nbformat_minor": 4
}
