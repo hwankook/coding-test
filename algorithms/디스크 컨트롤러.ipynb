{
 "cells": [
  {
   "cell_type": "code",
   "execution_count": 146,
   "metadata": {},
   "outputs": [],
   "source": [
    "import heapq\n",
    "\n",
    "\n",
    "class Task:\n",
    "    def __init__(self, start, duration):\n",
    "        self.start = start\n",
    "        self.duration = duration\n",
    "\n",
    "    def __repr__(self):\n",
    "        return str(self.start) + ': ' + str(self.duration)\n",
    "\n",
    "    def __lt__(self, other):\n",
    "        return self.duration < other.duration\n",
    "\n",
    "\n",
    "def solution(jobs):\n",
    "    answer = 0\n",
    "    pq = []\n",
    "    t = 0\n",
    "    time = -1\n",
    "    end = 0\n",
    "    while t < len(jobs):\n",
    "        for start, duration in jobs:\n",
    "            if time < start <= end:\n",
    "                task = Task(start, duration)\n",
    "                heapq.heappush(pq, task)\n",
    "\n",
    "        if 0 < len(pq):\n",
    "            task = heapq.heappop(pq)\n",
    "            time = end\n",
    "            end += task.duration\n",
    "            answer += end - task.start\n",
    "            t += 1\n",
    "        else:\n",
    "            end += 1\n",
    "    return answer // len(jobs)"
   ]
  },
  {
   "cell_type": "code",
   "execution_count": 150,
   "metadata": {},
   "outputs": [],
   "source": [
    "jobs = [[0, 3], [1, 9], [2, 6]]"
   ]
  },
  {
   "cell_type": "code",
   "execution_count": 153,
   "metadata": {},
   "outputs": [],
   "source": [
    "jobs = [[0, 3], [1, 9], [4, 6]]"
   ]
  },
  {
   "cell_type": "code",
   "execution_count": 154,
   "metadata": {},
   "outputs": [
    {
     "data": {
      "text/plain": [
       "9"
      ]
     },
     "execution_count": 154,
     "metadata": {},
     "output_type": "execute_result"
    }
   ],
   "source": [
    "solution(jobs)"
   ]
  },
  {
   "cell_type": "code",
   "execution_count": null,
   "metadata": {},
   "outputs": [],
   "source": []
  }
 ],
 "metadata": {
  "kernelspec": {
   "display_name": "Python 3",
   "language": "python",
   "name": "python3"
  },
  "language_info": {
   "codemirror_mode": {
    "name": "ipython",
    "version": 3
   },
   "file_extension": ".py",
   "mimetype": "text/x-python",
   "name": "python",
   "nbconvert_exporter": "python",
   "pygments_lexer": "ipython3",
   "version": "3.8.5"
  }
 },
 "nbformat": 4,
 "nbformat_minor": 4
}
