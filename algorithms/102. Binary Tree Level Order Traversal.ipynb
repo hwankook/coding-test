{
 "cells": [
  {
   "cell_type": "code",
   "execution_count": 4,
   "id": "d46f9b5d-e745-4dc9-ad97-2d90e7e9bf97",
   "metadata": {},
   "outputs": [],
   "source": [
    "from typing import Optional\n",
    "from typing import List"
   ]
  },
  {
   "cell_type": "code",
   "execution_count": 5,
   "id": "6ed791e7-cea1-4210-9e8c-6ea37d50957d",
   "metadata": {},
   "outputs": [],
   "source": [
    "# Definition for a binary tree node.\n",
    "class TreeNode:\n",
    "    def __init__(self, val=0, left=None, right=None):\n",
    "        self.val = val\n",
    "        self.left = left\n",
    "        self.right = right\n",
    "    \n",
    "def create(root):\n",
    "    if len(root) == 0:\n",
    "        return None\n",
    "\n",
    "    val = root[0]\n",
    "    left = create_leaf(root, 1)\n",
    "    right = create_leaf(root, 2)\n",
    "    return TreeNode(val, left, right)\n",
    "\n",
    "def create_leaf(root, k):\n",
    "    if k >= len(root) or root[k] is None:\n",
    "        return None\n",
    "\n",
    "    leaf = TreeNode(root[k])\n",
    "    left = 2 * k + 1\n",
    "    leaf.left = create_leaf(root, left)\n",
    "\n",
    "    right = 2 * k + 2\n",
    "    leaf.right = create_leaf(root, right)\n",
    "\n",
    "    return leaf"
   ]
  },
  {
   "cell_type": "code",
   "execution_count": 83,
   "id": "528ebc72-e160-4620-ae2c-d416a12375a9",
   "metadata": {},
   "outputs": [],
   "source": [
    "from collections import deque\n",
    "\n",
    "class Solution:\n",
    "    def levelOrder(self, root: Optional[TreeNode]) -> List[List[int]]:\n",
    "        result = []\n",
    "        deq = deque([(root, 0)])\n",
    "        while deq:\n",
    "            node, level = deq.popleft()\n",
    "            if node is None:\n",
    "                return []\n",
    "            if len(result) <= level:\n",
    "                result.append([node.val])\n",
    "            else:\n",
    "                result[level].append(node.val)\n",
    "            if node.left:\n",
    "                deq.append((node.left, level + 1))\n",
    "            if node.right:\n",
    "                deq.append((node.right, level + 1))\n",
    "        return result"
   ]
  },
  {
   "cell_type": "code",
   "execution_count": 92,
   "id": "112d2386-094e-4375-bd13-64c6cc9a5b2e",
   "metadata": {},
   "outputs": [],
   "source": [
    "root = [3,9,20,None,None,15,7]\n",
    "assert([[3],[9,20],[15,7]] == Solution().levelOrder(create(root)))"
   ]
  },
  {
   "cell_type": "code",
   "execution_count": 90,
   "id": "f86569c8-7550-4a59-98fb-52203f34507b",
   "metadata": {},
   "outputs": [],
   "source": [
    "root = [1]\n",
    "assert([[1]] == Solution().levelOrder(create(root)))"
   ]
  },
  {
   "cell_type": "code",
   "execution_count": 88,
   "id": "0a86f8ca-51e4-4778-ad6c-e637b9c1d7d9",
   "metadata": {},
   "outputs": [],
   "source": [
    "root = []\n",
    "assert([] == Solution().levelOrder(create(root)))"
   ]
  },
  {
   "cell_type": "code",
   "execution_count": null,
   "id": "d1f421fd-bad3-4024-afbc-517c5bd9252d",
   "metadata": {},
   "outputs": [],
   "source": []
  }
 ],
 "metadata": {
  "kernelspec": {
   "display_name": "Python 3 (ipykernel)",
   "language": "python",
   "name": "python3"
  },
  "language_info": {
   "codemirror_mode": {
    "name": "ipython",
    "version": 3
   },
   "file_extension": ".py",
   "mimetype": "text/x-python",
   "name": "python",
   "nbconvert_exporter": "python",
   "pygments_lexer": "ipython3",
   "version": "3.9.7"
  }
 },
 "nbformat": 4,
 "nbformat_minor": 5
}
