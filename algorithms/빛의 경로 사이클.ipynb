{
 "cells": [
  {
   "cell_type": "raw",
   "id": "355460e3-5204-4182-bf76-aaf1098bd719",
   "metadata": {},
   "source": [
    "  0      1      3\n",
    "3 S 1  0 L 2  2 R 0\n",
    "  2      3      1"
   ]
  },
  {
   "cell_type": "code",
   "execution_count": 115,
   "id": "5a15aca8-ee9d-40b9-ac81-4b86be7179ab",
   "metadata": {},
   "outputs": [],
   "source": [
    "import sys\n",
    "sys.setrecursionlimit(10 ** 6)\n",
    "\n",
    "def solution(grid):\n",
    "    def dfs(v, w, result, cycle):\n",
    "        visited[w] = True\n",
    "        i, j, d = w\n",
    "        y, x = di[d]\n",
    "        i, j = (i + y + m) % m, (j + x + n) % n\n",
    "        if grid[i][j] == 'L':\n",
    "            d = (d + 1) % 4\n",
    "        elif grid[i][j] == 'R':\n",
    "            d = (d + 3) % 4\n",
    "        w = i, j, d\n",
    "        # print(v, w)\n",
    "        if v == w:\n",
    "            # print(v, w)\n",
    "            result.append(cycle)\n",
    "            return\n",
    "\n",
    "        if not visited[w]:\n",
    "            dfs(v, w, result, cycle + 1)\n",
    "    \n",
    "    result = []\n",
    "    m, n = len(grid), len(grid[0])\n",
    "    di = [(-1, 0), (0, 1), (1, 0), (0, -1)]\n",
    "    visited = {(i, j, d): False for i in range(m) for j in range(n) for d in range(4)}\n",
    "    for i in range(m):\n",
    "        for j in range(n):\n",
    "            for d in range(4):\n",
    "                v = i, j, d\n",
    "                dfs(v, v, result, 1)\n",
    "    return sorted(result)"
   ]
  },
  {
   "cell_type": "code",
   "execution_count": 120,
   "id": "05e3a143-3cac-410c-b673-4736c9ad1a5d",
   "metadata": {},
   "outputs": [],
   "source": [
    "grid = [\"SL\",\"LR\"]\n",
    "assert [16] == solution(grid)"
   ]
  },
  {
   "cell_type": "code",
   "execution_count": 118,
   "id": "bf43d22d-34e2-4b86-89f8-753774d9db9e",
   "metadata": {},
   "outputs": [],
   "source": [
    "grid = [\"S\"]\n",
    "assert [1, 1, 1, 1] == solution(grid)"
   ]
  },
  {
   "cell_type": "code",
   "execution_count": 119,
   "id": "c8dbae0c-938d-49c8-a91d-b6f18d97a5ef",
   "metadata": {},
   "outputs": [],
   "source": [
    "grid = [\"R\",\"R\"]\n",
    "assert [4, 4] == solution(grid)"
   ]
  },
  {
   "cell_type": "code",
   "execution_count": null,
   "id": "3884de4c-a751-4eca-86bd-7be8a69a9e65",
   "metadata": {},
   "outputs": [],
   "source": []
  }
 ],
 "metadata": {
  "kernelspec": {
   "display_name": "Python 3 (ipykernel)",
   "language": "python",
   "name": "python3"
  },
  "language_info": {
   "codemirror_mode": {
    "name": "ipython",
    "version": 3
   },
   "file_extension": ".py",
   "mimetype": "text/x-python",
   "name": "python",
   "nbconvert_exporter": "python",
   "pygments_lexer": "ipython3",
   "version": "3.9.7"
  }
 },
 "nbformat": 4,
 "nbformat_minor": 5
}
