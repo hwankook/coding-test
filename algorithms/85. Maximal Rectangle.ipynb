{
 "cells": [
  {
   "cell_type": "code",
   "execution_count": 1,
   "id": "1dd7e531-1749-421c-b9d2-1ac291301720",
   "metadata": {},
   "outputs": [],
   "source": [
    "from typing import List"
   ]
  },
  {
   "cell_type": "code",
   "execution_count": 246,
   "id": "85821d60-1f8f-4300-b0e9-ac9fc033b954",
   "metadata": {},
   "outputs": [],
   "source": [
    "class Solution:\n",
    "    def maximalRectangle(self, matrix: List[List[str]]) -> int:\n",
    "        def largestRectangleArea(heights: List[int]) -> int:\n",
    "            stack = [-1]\n",
    "            heights.append(0)\n",
    "            area = 0\n",
    "            for end in range(len(heights)):\n",
    "                while heights[end] < heights[stack[-1]]:\n",
    "                    start = stack.pop()\n",
    "                    height = heights[start]\n",
    "                    width = end - stack[-1] - 1\n",
    "                    area = max(area, width * height)\n",
    "                stack.append(end)\n",
    "            return area\n",
    "        result = 0\n",
    "        m, n = len(matrix), len(matrix[0])\n",
    "        for i in range(m):\n",
    "            for j in range(n):\n",
    "                matrix[i][j] = int(matrix[i][j])\n",
    "                if i == 0:\n",
    "                    continue\n",
    "                if matrix[i][j] == 1:\n",
    "                    matrix[i][j] += matrix[i - 1][j]\n",
    "        for i in range(m):\n",
    "            result = max(result, largestRectangleArea(matrix[i]))\n",
    "        return result"
   ]
  },
  {
   "cell_type": "code",
   "execution_count": 247,
   "id": "c0060f9a-5fe7-4275-aeee-7c45f4c584dc",
   "metadata": {},
   "outputs": [
    {
     "data": {
      "text/plain": [
       "[['1', '0', '1', '0', '0'],\n",
       " ['1', '0', '1', '1', '1'],\n",
       " ['1', '1', '1', '1', '1'],\n",
       " ['1', '0', '0', '1', '0']]"
      ]
     },
     "execution_count": 247,
     "metadata": {},
     "output_type": "execute_result"
    }
   ],
   "source": [
    "matrix = [[\"1\",\"0\",\"1\",\"0\",\"0\"],[\"1\",\"0\",\"1\",\"1\",\"1\"],[\"1\",\"1\",\"1\",\"1\",\"1\"],[\"1\",\"0\",\"0\",\"1\",\"0\"]]\n",
    "matrix"
   ]
  },
  {
   "cell_type": "code",
   "execution_count": 251,
   "id": "afa55a2e-730c-4568-ac51-2957fa7c0a12",
   "metadata": {},
   "outputs": [],
   "source": [
    "assert(6 == Solution().maximalRectangle(matrix))"
   ]
  },
  {
   "cell_type": "code",
   "execution_count": null,
   "id": "66cacaf8-0144-4f52-acd5-1653cadd4ff4",
   "metadata": {},
   "outputs": [],
   "source": []
  }
 ],
 "metadata": {
  "kernelspec": {
   "display_name": "Python 3 (ipykernel)",
   "language": "python",
   "name": "python3"
  },
  "language_info": {
   "codemirror_mode": {
    "name": "ipython",
    "version": 3
   },
   "file_extension": ".py",
   "mimetype": "text/x-python",
   "name": "python",
   "nbconvert_exporter": "python",
   "pygments_lexer": "ipython3",
   "version": "3.9.7"
  }
 },
 "nbformat": 4,
 "nbformat_minor": 5
}
