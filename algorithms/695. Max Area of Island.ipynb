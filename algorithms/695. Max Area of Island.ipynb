{
 "cells": [
  {
   "cell_type": "code",
   "execution_count": 1,
   "id": "0969595b-d993-4d18-8569-f2e6581610c6",
   "metadata": {},
   "outputs": [],
   "source": [
    "from typing import List"
   ]
  },
  {
   "cell_type": "code",
   "execution_count": 69,
   "id": "1dd7436a-0141-4f7a-b5b7-7c314ba23279",
   "metadata": {},
   "outputs": [],
   "source": [
    "class Solution:\n",
    "    def __init__(self):\n",
    "        self.area = 0\n",
    "        self.max_area = 0\n",
    "\n",
    "    def maxAreaOfIsland(self, grid: List[List[int]]) -> int:\n",
    "        m, n = len(grid), len(grid[0])\n",
    "        def dfs(i, j):\n",
    "            if i < 0 or i >= m or j < 0 or j >= n:\n",
    "                return\n",
    "            \n",
    "            if grid[i][j] == 1:\n",
    "                self.area += grid[i][j]\n",
    "                self.max_area = max(self.max_area, self.area)\n",
    "                grid[i][j] = 0\n",
    "                dfs(i - 1, j)\n",
    "                dfs(i + 1, j)\n",
    "                dfs(i, j - 1)\n",
    "                dfs(i, j + 1)\n",
    "                \n",
    "        for i in range(m):\n",
    "            for j in range(n):\n",
    "                self.area = 0\n",
    "                dfs(i, j)\n",
    "        return self.max_area"
   ]
  },
  {
   "cell_type": "code",
   "execution_count": 74,
   "id": "2bfe7981-debb-445a-8a4c-eadf01f01873",
   "metadata": {},
   "outputs": [],
   "source": [
    "grid = [[0,0,1,0,0,0,0,1,0,0,0,0,0],[0,0,0,0,0,0,0,1,1,1,0,0,0],[0,1,1,0,1,0,0,0,0,0,0,0,0],[0,1,0,0,1,1,0,0,1,0,1,0,0],[0,1,0,0,1,1,0,0,1,1,1,0,0],[0,0,0,0,0,0,0,0,0,0,1,0,0],[0,0,0,0,0,0,0,1,1,1,0,0,0],[0,0,0,0,0,0,0,1,1,0,0,0,0]]\n",
    "assert 6 == Solution().maxAreaOfIsland(grid)"
   ]
  },
  {
   "cell_type": "code",
   "execution_count": 73,
   "id": "3e8b27bc-8fb2-44ea-94ac-1ff37a6573c6",
   "metadata": {},
   "outputs": [],
   "source": [
    "grid = [[1,1,0,0,0],[1,1,0,0,0],[0,0,0,1,1],[0,0,0,1,1]]\n",
    "assert 4 == Solution().maxAreaOfIsland(grid)"
   ]
  },
  {
   "cell_type": "code",
   "execution_count": 75,
   "id": "68df6410-4e5c-4795-8780-60b9cc0f17f0",
   "metadata": {},
   "outputs": [],
   "source": [
    "grid = [[0,0,0,0,0,0,0,0]]\n",
    "assert 0 == Solution().maxAreaOfIsland(grid)"
   ]
  },
  {
   "cell_type": "code",
   "execution_count": null,
   "id": "f606079e-2398-4e5e-8a05-92af15a7456f",
   "metadata": {},
   "outputs": [],
   "source": []
  }
 ],
 "metadata": {
  "kernelspec": {
   "display_name": "Python 3 (ipykernel)",
   "language": "python",
   "name": "python3"
  },
  "language_info": {
   "codemirror_mode": {
    "name": "ipython",
    "version": 3
   },
   "file_extension": ".py",
   "mimetype": "text/x-python",
   "name": "python",
   "nbconvert_exporter": "python",
   "pygments_lexer": "ipython3",
   "version": "3.9.7"
  }
 },
 "nbformat": 4,
 "nbformat_minor": 5
}
