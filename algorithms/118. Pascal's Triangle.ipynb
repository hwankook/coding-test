{
 "cells": [
  {
   "cell_type": "code",
   "execution_count": 2,
   "metadata": {},
   "outputs": [],
   "source": [
    "from typing import List"
   ]
  },
  {
   "cell_type": "code",
   "execution_count": 19,
   "metadata": {},
   "outputs": [],
   "source": [
    "class Solution:\n",
    "    def generate(self, numRows: int) -> List[List[int]]:\n",
    "        result = []\n",
    "        if numRows == 1:\n",
    "            result.append([1])\n",
    "        elif numRows == 2:\n",
    "            result.append([1, 1])\n",
    "        elif numRows == 3:\n",
    "            left, right = self.generate(2)[0]\n",
    "            result.append([1, left + right, 1])\n",
    "        elif numRows == 4:\n",
    "            left, mid, right = self.generate(3)[0]\n",
    "            result.append([1, left + mid, mid + right, 1])\n",
    "        else:\n",
    "            left, mid1, mid2, right = self.generate(4)[0]\n",
    "            result.append([1, left + mid1, mid1 + mid2, mid2 + right, 1])\n",
    "        return result"
   ]
  },
  {
   "cell_type": "code",
   "execution_count": 20,
   "metadata": {},
   "outputs": [
    {
     "data": {
      "text/plain": [
       "[[1, 2, 1]]"
      ]
     },
     "execution_count": 20,
     "metadata": {},
     "output_type": "execute_result"
    }
   ],
   "source": [
    "s = Solution()\n",
    "s.generate(3)"
   ]
  },
  {
   "cell_type": "code",
   "execution_count": 21,
   "metadata": {},
   "outputs": [
    {
     "data": {
      "text/plain": [
       "[[1, 3, 3, 1]]"
      ]
     },
     "execution_count": 21,
     "metadata": {},
     "output_type": "execute_result"
    }
   ],
   "source": [
    "s = Solution()\n",
    "s.generate(4)"
   ]
  },
  {
   "cell_type": "code",
   "execution_count": 22,
   "metadata": {},
   "outputs": [
    {
     "data": {
      "text/plain": [
       "[[1, 4, 6, 4, 1]]"
      ]
     },
     "execution_count": 22,
     "metadata": {},
     "output_type": "execute_result"
    }
   ],
   "source": [
    "s = Solution()\n",
    "s.generate(5)"
   ]
  },
  {
   "cell_type": "code",
   "execution_count": 26,
   "metadata": {},
   "outputs": [],
   "source": [
    "class Solution:\n",
    "    def generate(self, numRows: int) -> List[List[int]]:\n",
    "        result = []\n",
    "        if numRows == 1:\n",
    "            result.append([1])\n",
    "        elif numRows == 2:\n",
    "            result.append([1, 1])\n",
    "        elif numRows == 3:\n",
    "            temp = self.generate(numRows - 1)[0]\n",
    "            result.append([1, temp[0] + temp[1], 1])\n",
    "        elif numRows == 4:\n",
    "            temp = self.generate(3)[0]\n",
    "            result.append([1, temp[0] + temp[1], temp[1] + temp[2], 1])\n",
    "        else:\n",
    "            temp = self.generate(4)[0]\n",
    "            result.append([1, temp[0] + temp[1], temp[1] + temp[2], temp[2] + temp[3], 1])\n",
    "        return result"
   ]
  },
  {
   "cell_type": "code",
   "execution_count": 27,
   "metadata": {},
   "outputs": [
    {
     "data": {
      "text/plain": [
       "[[1, 3, 3, 1]]"
      ]
     },
     "execution_count": 27,
     "metadata": {},
     "output_type": "execute_result"
    }
   ],
   "source": [
    "s = Solution()\n",
    "s.generate(4)"
   ]
  },
  {
   "cell_type": "code",
   "execution_count": 28,
   "metadata": {},
   "outputs": [
    {
     "data": {
      "text/plain": [
       "[[1, 4, 6, 4, 1]]"
      ]
     },
     "execution_count": 28,
     "metadata": {},
     "output_type": "execute_result"
    }
   ],
   "source": [
    "s = Solution()\n",
    "s.generate(5)"
   ]
  },
  {
   "cell_type": "code",
   "execution_count": 216,
   "metadata": {},
   "outputs": [],
   "source": [
    "class Solution:\n",
    "    def __init__(self):\n",
    "        self.result = []\n",
    "\n",
    "    def generate_row(self, numRows):\n",
    "        row = [1]\n",
    "        if 1 < numRows:\n",
    "            r = self.generate_row(numRows - 1)\n",
    "            for i in range(len(r) - 1):\n",
    "                row.append(r[i] + r[i + 1])\n",
    "            row.append(1)\n",
    "        self.result.append(row)\n",
    "        return list(row)\n",
    "    \n",
    "    def generate(self, numRows: int) -> List[List[int]]:\n",
    "        self.generate_row(numRows)\n",
    "        return self.result"
   ]
  },
  {
   "cell_type": "code",
   "execution_count": 217,
   "metadata": {},
   "outputs": [
    {
     "data": {
      "text/plain": [
       "[[1], [1, 1], [1, 2, 1], [1, 3, 3, 1]]"
      ]
     },
     "execution_count": 217,
     "metadata": {},
     "output_type": "execute_result"
    }
   ],
   "source": [
    "s = Solution()\n",
    "s.generate(4)"
   ]
  },
  {
   "cell_type": "code",
   "execution_count": null,
   "metadata": {},
   "outputs": [],
   "source": []
  }
 ],
 "metadata": {
  "kernelspec": {
   "display_name": "Python 3",
   "language": "python",
   "name": "python3"
  },
  "language_info": {
   "codemirror_mode": {
    "name": "ipython",
    "version": 3
   },
   "file_extension": ".py",
   "mimetype": "text/x-python",
   "name": "python",
   "nbconvert_exporter": "python",
   "pygments_lexer": "ipython3",
   "version": "3.8.5"
  }
 },
 "nbformat": 4,
 "nbformat_minor": 4
}
