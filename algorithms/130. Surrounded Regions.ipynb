{
 "cells": [
  {
   "cell_type": "code",
   "execution_count": 3,
   "metadata": {},
   "outputs": [],
   "source": [
    "from typing import List"
   ]
  },
  {
   "cell_type": "code",
   "execution_count": 4,
   "metadata": {},
   "outputs": [],
   "source": [
    "class Solution:\n",
    "    def can_move(self, board, row, col):\n",
    "        if (0 <= row < len(board)) and (0 <= col < len(board[0])):\n",
    "            if board[row][col] == 'O':\n",
    "                return True\n",
    "\n",
    "        return False\n",
    "\n",
    "    def dfs_visit(self, board, row, col):\n",
    "        board[row][col] = '-'\n",
    "        for y, x in [[-1, 0], [1, 0], [0, -1], [0, 1]]:\n",
    "            next_row, next_col = row + y, col + x\n",
    "            if self.can_move(board, next_row, next_col) and board[next_row][next_col] == 'O':\n",
    "                self.dfs_visit(board, next_row, next_col)\n",
    "\n",
    "    def dfs(self, board):\n",
    "        for row, col in [(row, col) for row in [0, len(board) - 1] for col in range(len(board[0]))]:\n",
    "            if board[row][col] == 'O':\n",
    "                self.dfs_visit(board, row, col)\n",
    "\n",
    "        for row, col in [(row, col) for row in range(len(board)) for col in [0, len(board[0]) - 1]]:\n",
    "            if board[row][col] == 'O':\n",
    "                self.dfs_visit(board, row, col)\n",
    "\n",
    "        for row, col in [(row, col) for row in range(len(board)) for col in range(len(board[0]))]:\n",
    "            if board[row][col] == 'O':\n",
    "                board[row][col] = 'X'\n",
    "            elif board[row][col] == '-':\n",
    "                board[row][col] = 'O'\n",
    "            \n",
    "            \n",
    "    def solve(self, board: List[List[str]]) -> None:\n",
    "        \"\"\"\n",
    "        Do not return anything, modify board in-place instead.\n",
    "        \"\"\"\n",
    "        self.dfs(board)"
   ]
  },
  {
   "cell_type": "code",
   "execution_count": 20,
   "metadata": {},
   "outputs": [],
   "source": [
    "board = [[\"O\",\"O\"],[\"O\",\"O\"]]"
   ]
  },
  {
   "cell_type": "code",
   "execution_count": 21,
   "metadata": {},
   "outputs": [],
   "source": [
    "board = [[\"X\",\"O\",\"X\"],[\"O\",\"X\",\"O\"],[\"X\",\"O\",\"X\"]]"
   ]
  },
  {
   "cell_type": "code",
   "execution_count": 22,
   "metadata": {},
   "outputs": [],
   "source": [
    "board = [[\"O\",\"O\",\"O\"],[\"O\",\"O\",\"O\"],[\"O\",\"O\",\"O\"]]"
   ]
  },
  {
   "cell_type": "code",
   "execution_count": 25,
   "metadata": {},
   "outputs": [
    {
     "data": {
      "text/plain": [
       "[['X', 'X', 'X', 'X'],\n",
       " ['X', 'O', 'O', 'X'],\n",
       " ['X', 'X', 'O', 'X'],\n",
       " ['X', 'O', 'X', 'X']]"
      ]
     },
     "execution_count": 25,
     "metadata": {},
     "output_type": "execute_result"
    }
   ],
   "source": [
    "board = [[\"X\",\"X\",\"X\",\"X\"],[\"X\",\"O\",\"O\",\"X\"],[\"X\",\"X\",\"O\",\"X\"],[\"X\",\"O\",\"X\",\"X\"]]\n",
    "board"
   ]
  },
  {
   "cell_type": "code",
   "execution_count": 26,
   "metadata": {},
   "outputs": [
    {
     "data": {
      "text/plain": [
       "[['X', 'X', 'X', 'X'],\n",
       " ['X', 'X', 'X', 'X'],\n",
       " ['X', 'X', 'X', 'X'],\n",
       " ['X', 'O', 'X', 'X']]"
      ]
     },
     "execution_count": 26,
     "metadata": {},
     "output_type": "execute_result"
    }
   ],
   "source": [
    "s = Solution()\n",
    "s.solve(board)\n",
    "board"
   ]
  },
  {
   "cell_type": "code",
   "execution_count": null,
   "metadata": {},
   "outputs": [],
   "source": []
  }
 ],
 "metadata": {
  "kernelspec": {
   "display_name": "Python 3",
   "language": "python",
   "name": "python3"
  },
  "language_info": {
   "codemirror_mode": {
    "name": "ipython",
    "version": 3
   },
   "file_extension": ".py",
   "mimetype": "text/x-python",
   "name": "python",
   "nbconvert_exporter": "python",
   "pygments_lexer": "ipython3",
   "version": "3.8.5"
  }
 },
 "nbformat": 4,
 "nbformat_minor": 4
}