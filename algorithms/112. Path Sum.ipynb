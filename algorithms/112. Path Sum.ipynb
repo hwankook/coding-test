{
 "cells": [
  {
   "cell_type": "code",
   "execution_count": 1,
   "id": "6974b173-3e82-4c58-940f-67976d19460b",
   "metadata": {},
   "outputs": [],
   "source": [
    "from typing import Optional"
   ]
  },
  {
   "cell_type": "code",
   "execution_count": 272,
   "id": "55ba0c32-87d7-405d-813b-496842ba74cf",
   "metadata": {},
   "outputs": [],
   "source": [
    "# Definition for a binary tree node.\n",
    "class TreeNode:\n",
    "    def __init__(self, val=0, left=None, right=None):\n",
    "        self.val = val\n",
    "        self.left = left\n",
    "        self.right = right\n",
    "    \n",
    "def create(root):\n",
    "    if len(root) == 0:\n",
    "        return None\n",
    "\n",
    "    val = root[0]\n",
    "    left = create_leaf(root, 1)\n",
    "    right = create_leaf(root, 2)\n",
    "    return TreeNode(val, left, right)\n",
    "\n",
    "def create_leaf(root, k):\n",
    "    if k >= len(root) or root[k] is None:\n",
    "        return None\n",
    "\n",
    "    leaf = TreeNode(root[k])\n",
    "    left = 2 * k + 1\n",
    "    leaf.left = create_leaf(root, left)\n",
    "\n",
    "    right = 2 * k + 2\n",
    "    leaf.right = create_leaf(root, right)\n",
    "\n",
    "    return leaf"
   ]
  },
  {
   "cell_type": "code",
   "execution_count": 403,
   "id": "26f38804-c82a-4a2b-8dcb-20297526e8da",
   "metadata": {},
   "outputs": [],
   "source": [
    "from collections import deque\n",
    "\n",
    "\n",
    "class Solution:\n",
    "    def hasPathSum(self, root: Optional[TreeNode], targetSum: int) -> bool:\n",
    "        deq = deque([root])\n",
    "        while deq:\n",
    "            node = deq.popleft()\n",
    "            if node is None:\n",
    "                return False\n",
    "            \n",
    "            if not node.left and not node.right and node.val == targetSum:\n",
    "                return True\n",
    "\n",
    "            if node.left:\n",
    "                node.left.val += node.val\n",
    "                deq.append(node.left)\n",
    "            if node.right:\n",
    "                node.right.val += node.val\n",
    "                deq.append(node.right)\n",
    "\n",
    "        return False"
   ]
  },
  {
   "cell_type": "code",
   "execution_count": 411,
   "id": "988a4c89-d216-4cc1-a7a3-ea3c7ec9b3c3",
   "metadata": {},
   "outputs": [],
   "source": [
    "root = [5,4,8,11,None,13,4,7,2,None,None,None,1]\n",
    "targetSum = 22\n",
    "assert(True == Solution().hasPathSum(create(root), targetSum))"
   ]
  },
  {
   "cell_type": "code",
   "execution_count": 412,
   "id": "45810222-4c62-48e8-822a-3321dcaaa969",
   "metadata": {},
   "outputs": [],
   "source": [
    "root = []\n",
    "targetSum = 0\n",
    "assert(False == Solution().hasPathSum(create(root), targetSum))"
   ]
  },
  {
   "cell_type": "code",
   "execution_count": 416,
   "id": "93a70a13-184a-4a8e-9a85-84fff2578ed2",
   "metadata": {},
   "outputs": [],
   "source": [
    "root = [1]\n",
    "targetSum = 1\n",
    "assert(True == Solution().hasPathSum(create(root), targetSum))"
   ]
  },
  {
   "cell_type": "code",
   "execution_count": 417,
   "id": "e76a6daa-a563-4534-9fe2-427b59937298",
   "metadata": {},
   "outputs": [],
   "source": [
    "root = [1, 2]\n",
    "targetSum = 1\n",
    "assert(False == Solution().hasPathSum(create(root), targetSum))"
   ]
  },
  {
   "cell_type": "code",
   "execution_count": null,
   "id": "ff959ca5-daa2-4c38-9a11-93e3db5c9354",
   "metadata": {},
   "outputs": [],
   "source": []
  }
 ],
 "metadata": {
  "kernelspec": {
   "display_name": "Python 3 (ipykernel)",
   "language": "python",
   "name": "python3"
  },
  "language_info": {
   "codemirror_mode": {
    "name": "ipython",
    "version": 3
   },
   "file_extension": ".py",
   "mimetype": "text/x-python",
   "name": "python",
   "nbconvert_exporter": "python",
   "pygments_lexer": "ipython3",
   "version": "3.9.7"
  }
 },
 "nbformat": 4,
 "nbformat_minor": 5
}
