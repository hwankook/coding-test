{
 "cells": [
  {
   "cell_type": "code",
   "execution_count": 1,
   "id": "6912a624-4a0c-4745-84b9-5c0bfb2c402f",
   "metadata": {},
   "outputs": [],
   "source": [
    "from typing import List"
   ]
  },
  {
   "cell_type": "code",
   "execution_count": 409,
   "id": "f14cd921-4cb6-4a23-8d1c-34d4f878b9bc",
   "metadata": {},
   "outputs": [],
   "source": [
    "class Solution:\n",
    "    def uniquePathsWithObstacles(self, obstacleGrid: List[List[int]]) -> int:\n",
    "        result = {}\n",
    "        m, n = len(obstacleGrid), len(obstacleGrid[0])\n",
    "        def dp(y, x):\n",
    "            if y >= m or x >= n or obstacleGrid[y][x] == 1:\n",
    "                return 0\n",
    "            if y == m - 1 and x == n - 1:\n",
    "                return 1\n",
    "            \n",
    "            key = (y, x)\n",
    "            if key in result:\n",
    "                return result[key]\n",
    "            \n",
    "            result[key] = dp(y + 1, x) + dp(y, x + 1)\n",
    "            return result[key]\n",
    "        return dp(0, 0)"
   ]
  },
  {
   "cell_type": "code",
   "execution_count": 410,
   "id": "5ed527ce-d70d-456a-9169-0d10eb4dba50",
   "metadata": {},
   "outputs": [],
   "source": [
    "obstacleGrid = [[0]]"
   ]
  },
  {
   "cell_type": "code",
   "execution_count": 390,
   "id": "7f2bdad1-aebb-4d69-9a5e-6a9292dd1d3e",
   "metadata": {},
   "outputs": [],
   "source": [
    "obstacleGrid = [[1]]"
   ]
  },
  {
   "cell_type": "code",
   "execution_count": 352,
   "id": "986b15ed-60b6-4fe3-954b-42ff5843c11c",
   "metadata": {},
   "outputs": [],
   "source": [
    "obstacleGrid = [[1,0]]"
   ]
  },
  {
   "cell_type": "code",
   "execution_count": 316,
   "id": "ee64b801-34e2-4cf2-abd8-c9c2370eae32",
   "metadata": {},
   "outputs": [],
   "source": [
    "obstacleGrid = [[0,1],[0,0]]"
   ]
  },
  {
   "cell_type": "code",
   "execution_count": 318,
   "id": "32105362-8fbc-45b2-983a-4895f4bb6012",
   "metadata": {},
   "outputs": [],
   "source": [
    "obstacleGrid = [[0,0,0],[0,1,0],[0,0,0]]"
   ]
  },
  {
   "cell_type": "code",
   "execution_count": 411,
   "id": "542da910-5e4c-482a-99f0-8f45074ee101",
   "metadata": {},
   "outputs": [],
   "source": [
    "obstacleGrid = [[0,0,0,0],[0,1,0,0],[0,0,0,0],[0,0,1,0],[0,0,0,0]]"
   ]
  },
  {
   "cell_type": "code",
   "execution_count": 412,
   "id": "e755f304-35f2-41f0-bda6-6793d1675374",
   "metadata": {},
   "outputs": [
    {
     "data": {
      "text/plain": [
       "7"
      ]
     },
     "execution_count": 412,
     "metadata": {},
     "output_type": "execute_result"
    }
   ],
   "source": [
    "Solution().uniquePathsWithObstacles(obstacleGrid)"
   ]
  },
  {
   "cell_type": "markdown",
   "id": "f2eccfeb-ce16-4304-9e01-883507e5ab9a",
   "metadata": {
    "tags": []
   },
   "source": [
    "------------------------------------------------------------------------------------------------------------------"
   ]
  },
  {
   "cell_type": "markdown",
   "id": "ce7c7e60-daca-445d-94ab-3a19a6e22b25",
   "metadata": {},
   "source": [
    "Time Limit Exceeded"
   ]
  },
  {
   "cell_type": "code",
   "execution_count": null,
   "id": "36f8d165-2182-481c-91f3-b6b14b8e7176",
   "metadata": {},
   "outputs": [],
   "source": [
    "class Solution:\n",
    "    def __init__(self):\n",
    "        self.count = 0\n",
    "\n",
    "    def uniquePathsWithObstacles(self, obstacleGrid: List[List[int]]) -> int:\n",
    "        m, n = len(obstacleGrid), len(obstacleGrid[0])\n",
    "\n",
    "        def dp(y, x):\n",
    "            if y >= m or x >= n or obstacleGrid[y][x] == 1:\n",
    "                return False\n",
    "            if y == m - 1 and x == n - 1:\n",
    "                self.count += 1\n",
    "                return True\n",
    "\n",
    "            for r, c in [[0, 1], [1, 0]]:\n",
    "                if y + r < m and x + c < n:\n",
    "                    dp(y + r, x + c)\n",
    "        \n",
    "        dp(0, 0)\n",
    "        \n",
    "        return self.count"
   ]
  },
  {
   "cell_type": "code",
   "execution_count": null,
   "id": "1da71738-0039-4d9d-9cfe-59a6bd81758e",
   "metadata": {},
   "outputs": [],
   "source": []
  }
 ],
 "metadata": {
  "kernelspec": {
   "display_name": "Python 3 (ipykernel)",
   "language": "python",
   "name": "python3"
  },
  "language_info": {
   "codemirror_mode": {
    "name": "ipython",
    "version": 3
   },
   "file_extension": ".py",
   "mimetype": "text/x-python",
   "name": "python",
   "nbconvert_exporter": "python",
   "pygments_lexer": "ipython3",
   "version": "3.9.7"
  }
 },
 "nbformat": 4,
 "nbformat_minor": 5
}
